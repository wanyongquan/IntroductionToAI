{
 "cells": [
  {
   "cell_type": "code",
   "execution_count": 1,
   "id": "aa93a3f7",
   "metadata": {},
   "outputs": [
    {
     "name": "stdout",
     "output_type": "stream",
     "text": [
      "please input your grade (1-100):70.5\n",
      "D\n"
     ]
    }
   ],
   "source": [
    "'''\n",
    "实战练习1-13 等级分转换\n",
    "'''\n",
    "score = input('please input your grade (1-100):')\n",
    "# score = int(score)\n",
    "score = int(float(score))\n",
    "if score < 0 or score > 100:\n",
    "    print('Invalid score. Please enter a score between 1 and 100.')\n",
    "elif score < 50:\n",
    "    print('F')\n",
    "elif score <= 60:\n",
    "    print('E')\n",
    "elif score <= 70:\n",
    "    print('D')\n",
    "elif score <= 80:\n",
    "    print('C')\n",
    "elif score <= 90:\n",
    "    print('B')\n",
    "else:\n",
    "    print('A')"
   ]
  },
  {
   "cell_type": "code",
   "execution_count": 2,
   "id": "4d19ad5f",
   "metadata": {},
   "outputs": [
    {
     "name": "stdout",
     "output_type": "stream",
     "text": [
      "请输入一个整数数字: 6\n",
      "6 的阶乘是 720\n"
     ]
    }
   ],
   "source": [
    "# 从用户获取数字\n",
    "number = int(input(\"请输入一个整数数字: \"))\n",
    "\n",
    "# 初始化阶乘结果\n",
    "factorial = 1\n",
    "\n",
    "# 计算阶乘\n",
    "for i in range(1, number + 1):\n",
    "    factorial *= i\n",
    "\n",
    "# 输出结果\n",
    "print(f\"{number} 的阶乘是 {factorial}\")"
   ]
  },
  {
   "cell_type": "code",
   "execution_count": null,
   "id": "5ca58544",
   "metadata": {},
   "outputs": [],
   "source": []
  }
 ],
 "metadata": {
  "kernelspec": {
   "display_name": "Python 3 (ipykernel)",
   "language": "python",
   "name": "python3"
  },
  "language_info": {
   "codemirror_mode": {
    "name": "ipython",
    "version": 3
   },
   "file_extension": ".py",
   "mimetype": "text/x-python",
   "name": "python",
   "nbconvert_exporter": "python",
   "pygments_lexer": "ipython3",
   "version": "3.9.13"
  }
 },
 "nbformat": 4,
 "nbformat_minor": 5
}
