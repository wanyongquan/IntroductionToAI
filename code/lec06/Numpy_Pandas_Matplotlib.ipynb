{
 "cells": [
  {
   "cell_type": "markdown",
   "id": "cf467567",
   "metadata": {},
   "source": [
    "# Python科学计算库Numpy、Pandas和Matplotlib\n"
   ]
  },
  {
   "cell_type": "markdown",
   "id": "f3d018fb",
   "metadata": {},
   "source": [
    "# 主要内容 \n",
    "1. Numpy简介\n",
    "2. Pandas简介\n",
    "3. Matplotlib简介\n"
   ]
  },
  {
   "cell_type": "markdown",
   "id": "f4b8c3a0",
   "metadata": {},
   "source": [
    "# 一、Numpy简介"
   ]
  },
  {
   "cell_type": "markdown",
   "id": "813e5604",
   "metadata": {},
   "source": [
    "用于科学计算的Python 代码使用一种快速数组结构，称为numpy array。numpy 的文档可以在这里查看：  Numpy官方API文档 https://numpy.org/doc/stable/reference/index.html  "
   ]
  },
  {
   "cell_type": "markdown",
   "id": "527d18aa",
   "metadata": {},
   "source": [
    "导入Numpy库"
   ]
  },
  {
   "cell_type": "code",
   "execution_count": 1,
   "id": "57754638",
   "metadata": {},
   "outputs": [],
   "source": [
    "import numpy as np"
   ]
  },
  {
   "cell_type": "markdown",
   "id": "ec4f5c93",
   "metadata": {},
   "source": [
    "创建一个Numpy数组："
   ]
  },
  {
   "cell_type": "code",
   "execution_count": 2,
   "id": "4497ec1f",
   "metadata": {},
   "outputs": [
    {
     "data": {
      "text/plain": [
       "array([1, 2, 3, 4])"
      ]
     },
     "execution_count": 2,
     "metadata": {},
     "output_type": "execute_result"
    }
   ],
   "source": [
    "my_array = np.array([1, 2, 3, 4])\n",
    "my_array"
   ]
  },
  {
   "cell_type": "markdown",
   "id": "fe7b68c3",
   "metadata": {},
   "source": [
    "下面我们计算长度、切片和迭代。"
   ]
  },
  {
   "cell_type": "code",
   "execution_count": 5,
   "id": "d21e5a2d",
   "metadata": {},
   "outputs": [
    {
     "name": "stdout",
     "output_type": "stream",
     "text": [
      "4\n",
      "[3 4]\n",
      "1\n",
      "2\n",
      "3\n",
      "4\n"
     ]
    }
   ],
   "source": [
    "print(len(my_array))\n",
    "print(my_array[2:4])\n",
    "for ele in my_array:\n",
    "    print(ele)"
   ]
  },
  {
   "cell_type": "markdown",
   "id": "9672ceb3",
   "metadata": {},
   "source": [
    "调用numpy数组计算平均值。   \n",
    "可以通过在 numpy 数组上调用 .mean 方法或以 numpy 数组作为参数应用函数 np.mean 来计算数组元素的平均值。   \n",
    "一般来说，应该使用 numpy 模块函数（例如 np.mean）来操作 numpy 数组。 这是为了提高效率。"
   ]
  },
  {
   "cell_type": "code",
   "execution_count": 6,
   "id": "beb6e0d9",
   "metadata": {},
   "outputs": [
    {
     "name": "stdout",
     "output_type": "stream",
     "text": [
      "2.5\n",
      "2.5\n"
     ]
    }
   ],
   "source": [
    "print(my_array.mean())\n",
    "print(np.mean(my_array))"
   ]
  },
  {
   "cell_type": "markdown",
   "id": "90847b77",
   "metadata": {},
   "source": [
    "我们上面构建 numpy 数组的方式似乎是多余的……毕竟我们已经有了一个常规的 python 列表。 事实上，正是我们构建 numpy 数组的其他方法使它们变得非常有用。\n",
    "\n",
    "有很多这样的 numpy 数组构造函数。 以下是一些常用的构造函数。 在文档中查找它们。"
   ]
  },
  {
   "cell_type": "code",
   "execution_count": 7,
   "id": "3a5f743d",
   "metadata": {},
   "outputs": [
    {
     "data": {
      "text/plain": [
       "array([1., 1., 1., 1., 1., 1., 1., 1., 1., 1.])"
      ]
     },
     "execution_count": 7,
     "metadata": {},
     "output_type": "execute_result"
    }
   ],
   "source": [
    "np.ones(10) # generates 10 floating point ones"
   ]
  },
  {
   "cell_type": "markdown",
   "id": "646e7f75",
   "metadata": {},
   "source": [
    "Numpy之所以高效，很大程度上是因为它是类型化的。也就是说，数组中的所有元素都有相同的类型，比如整数或浮点数。如上所述，默认类型是适合机器的浮点数大小（64位机器上是64位）。"
   ]
  },
  {
   "cell_type": "code",
   "execution_count": 8,
   "id": "e48f6ed9",
   "metadata": {},
   "outputs": [
    {
     "data": {
      "text/plain": [
       "8"
      ]
     },
     "execution_count": 8,
     "metadata": {},
     "output_type": "execute_result"
    }
   ],
   "source": [
    "np.dtype(float).itemsize # in bytes"
   ]
  },
  {
   "cell_type": "code",
   "execution_count": 9,
   "id": "4e5ca333",
   "metadata": {},
   "outputs": [
    {
     "data": {
      "text/plain": [
       "array([1, 1, 1, 1, 1, 1, 1, 1, 1, 1])"
      ]
     },
     "execution_count": 9,
     "metadata": {},
     "output_type": "execute_result"
    }
   ],
   "source": [
    "np.ones(10, dtype='int') # generates 10 integer ones"
   ]
  },
  {
   "cell_type": "code",
   "execution_count": 10,
   "id": "417f3876",
   "metadata": {},
   "outputs": [
    {
     "data": {
      "text/plain": [
       "array([0., 0., 0., 0., 0., 0., 0., 0., 0., 0.])"
      ]
     },
     "execution_count": 10,
     "metadata": {},
     "output_type": "execute_result"
    }
   ],
   "source": [
    "np.zeros(10)"
   ]
  },
  {
   "cell_type": "markdown",
   "id": "5941496d",
   "metadata": {},
   "source": [
    "生成随机数"
   ]
  },
  {
   "cell_type": "code",
   "execution_count": 11,
   "id": "3f1f76a2",
   "metadata": {},
   "outputs": [
    {
     "data": {
      "text/plain": [
       "array([0.87668133, 0.46173106, 0.90509588, 0.22369596, 0.98481024,\n",
       "       0.62766367, 0.55669421, 0.46288141, 0.25257083, 0.82726181])"
      ]
     },
     "execution_count": 11,
     "metadata": {},
     "output_type": "execute_result"
    }
   ],
   "source": [
    "np.random.random(10) # uniform on [0,1]"
   ]
  },
  {
   "cell_type": "markdown",
   "id": "c6841ac2",
   "metadata": {},
   "source": [
    "## Numpy 支持向量运算"
   ]
  },
  {
   "cell_type": "markdown",
   "id": "9ef5e130",
   "metadata": {},
   "source": [
    "这意味着什么？它意味着你不必逐个元素地相加两个数组，你只需说：加上这两个数组。注意，这种行为与Python列表非常不同。"
   ]
  },
  {
   "cell_type": "code",
   "execution_count": 12,
   "id": "4d283922",
   "metadata": {},
   "outputs": [
    {
     "data": {
      "text/plain": [
       "array([2., 2., 2., 2., 2.])"
      ]
     },
     "execution_count": 12,
     "metadata": {},
     "output_type": "execute_result"
    }
   ],
   "source": [
    "first = np.ones(5)\n",
    "second = np.ones(5)\n",
    "first + second"
   ]
  },
  {
   "cell_type": "code",
   "execution_count": 13,
   "id": "be52bd73",
   "metadata": {},
   "outputs": [
    {
     "data": {
      "text/plain": [
       "[1.0, 1.0, 1.0, 1.0, 1.0, 1.0, 1.0, 1.0, 1.0, 1.0]"
      ]
     },
     "execution_count": 13,
     "metadata": {},
     "output_type": "execute_result"
    }
   ],
   "source": [
    "first_list = [1., 1., 1., 1., 1.]\n",
    "second_list = [1., 1., 1., 1., 1.]\n",
    "first_list + second_list #not what u want"
   ]
  },
  {
   "cell_type": "markdown",
   "id": "5f2aeaf0",
   "metadata": {},
   "source": [
    "在一些计算机芯片上，这种加法实际上是并行发生的，因此加速效果可以很高。但即使在普通芯片上，更高的可读性也是一个重要的优势。\n",
    "\n",
    "Numpy支持一种称为广播的概念，它规定了不同大小的数组如何组合在一起。这里的规则太多，无法一一列举，但重要的是，数组乘以一个数字意味着每个元素都乘以那个数字。加上一个数字则是将该数字加到每个元素上。"
   ]
  },
  {
   "cell_type": "code",
   "execution_count": 14,
   "id": "7dfff3cf",
   "metadata": {},
   "outputs": [
    {
     "data": {
      "text/plain": [
       "array([2., 2., 2., 2., 2.])"
      ]
     },
     "execution_count": 14,
     "metadata": {},
     "output_type": "execute_result"
    }
   ],
   "source": [
    "first + 1"
   ]
  },
  {
   "cell_type": "markdown",
   "id": "6d5a8d36",
   "metadata": {},
   "source": [
    "## 二维数组"
   ]
  },
  {
   "cell_type": "code",
   "execution_count": 15,
   "id": "f6f35d22",
   "metadata": {},
   "outputs": [
    {
     "name": "stdout",
     "output_type": "stream",
     "text": [
      "[[1. 1. 1. 1.]\n",
      " [1. 1. 1. 1.]\n",
      " [1. 1. 1. 1.]]\n",
      "[[1.00593575 1.00954571 1.02104657 1.00288249]\n",
      " [0.99469342 0.99002293 1.00117134 0.99816485]\n",
      " [1.00184597 1.00084834 0.99716572 1.00889483]]\n",
      "[[1. 0. 0.]\n",
      " [0. 1. 0.]\n",
      " [0. 0. 1.]]\n"
     ]
    }
   ],
   "source": [
    "my_array2d = np.array([ [1, 2, 3, 4], [5, 6, 7, 8], [9, 10, 11, 12] ])\n",
    "\n",
    "# 3 x 4 array of ones\n",
    "ones_2d = np.ones([3, 4])\n",
    "print(ones_2d)\n",
    "# 3 x 4 array of ones with random noise\n",
    "ones_noise = ones_2d + .01*np.random.randn(3, 4)\n",
    "print(ones_noise)\n",
    "# 3 x 3 identity matrix\n",
    "my_identity = np.eye(3)\n",
    "print(my_identity)"
   ]
  },
  {
   "cell_type": "markdown",
   "id": "374c8508",
   "metadata": {},
   "source": [
    "像列表一样，numpy数组是从0开始索引的。因此，我们可以通过索引[n-1,m-1]访问二维数组的第n行和第m列。"
   ]
  },
  {
   "cell_type": "code",
   "execution_count": 16,
   "id": "f6aed349",
   "metadata": {},
   "outputs": [
    {
     "name": "stdout",
     "output_type": "stream",
     "text": [
      "[[ 1  2  3  4]\n",
      " [ 5  6  7  8]\n",
      " [ 9 10 11 12]]\n"
     ]
    },
    {
     "data": {
      "text/plain": [
       "12"
      ]
     },
     "execution_count": 16,
     "metadata": {},
     "output_type": "execute_result"
    }
   ],
   "source": [
    "print(my_array2d)\n",
    "my_array2d[2, 3]"
   ]
  },
  {
   "cell_type": "markdown",
   "id": "ea08e59c",
   "metadata": {},
   "source": [
    "Numpy数组是列表型的！它们有固定的长度（数组维度），可以被切片，并且可以通过循环进行迭代。下面是一个示意图，展示了如何切片二维数组。"
   ]
  },
  {
   "attachments": {
    "2dindex_v2.png": {
     "image/png": "[encoded data removed]"
    }
   },
   "cell_type": "markdown",
   "id": "4c45b0df",
   "metadata": {},
   "source": [
    "![2dindex_v2.png](attachment:2dindex_v2.png)"
   ]
  },
  {
   "cell_type": "markdown",
   "id": "ab6ff46c",
   "metadata": {},
   "source": [
    "二维中，我们需要提供数组的形状，即数组的行数和列数。"
   ]
  },
  {
   "cell_type": "code",
   "execution_count": 17,
   "id": "b83995d4",
   "metadata": {},
   "outputs": [
    {
     "data": {
      "text/plain": [
       "array([[1., 1., 1., 1.],\n",
       "       [1., 1., 1., 1.],\n",
       "       [1., 1., 1., 1.]])"
      ]
     },
     "execution_count": 17,
     "metadata": {},
     "output_type": "execute_result"
    }
   ],
   "source": [
    "onesarray = np.ones([3,4])\n",
    "onesarray"
   ]
  },
  {
   "cell_type": "code",
   "execution_count": 18,
   "id": "492e50b0",
   "metadata": {},
   "outputs": [
    {
     "data": {
      "text/plain": [
       "(3, 4)"
      ]
     },
     "execution_count": 18,
     "metadata": {},
     "output_type": "execute_result"
    }
   ],
   "source": [
    "onesarray.shape"
   ]
  },
  {
   "cell_type": "markdown",
   "id": "16d913a9",
   "metadata": {},
   "source": [
    "数组的转置"
   ]
  },
  {
   "cell_type": "code",
   "execution_count": 19,
   "id": "3afeeabf",
   "metadata": {},
   "outputs": [
    {
     "data": {
      "text/plain": [
       "array([[1., 1., 1.],\n",
       "       [1., 1., 1.],\n",
       "       [1., 1., 1.],\n",
       "       [1., 1., 1.]])"
      ]
     },
     "execution_count": 19,
     "metadata": {},
     "output_type": "execute_result"
    }
   ],
   "source": [
    "onesarray.T"
   ]
  },
  {
   "cell_type": "code",
   "execution_count": 20,
   "id": "b2cd7871",
   "metadata": {},
   "outputs": [
    {
     "data": {
      "text/plain": [
       "(4, 3)"
      ]
     },
     "execution_count": 20,
     "metadata": {},
     "output_type": "execute_result"
    }
   ],
   "source": [
    "onesarray.T.shape"
   ]
  },
  {
   "cell_type": "markdown",
   "id": "5b565502",
   "metadata": {},
   "source": [
    "矩阵乘法由 np.dot 完成。 * 运算符将进行逐元素乘法。"
   ]
  },
  {
   "cell_type": "code",
   "execution_count": 21,
   "id": "3597668e",
   "metadata": {},
   "outputs": [
    {
     "name": "stdout",
     "output_type": "stream",
     "text": [
      "[[4. 4. 4.]\n",
      " [4. 4. 4.]\n",
      " [4. 4. 4.]]\n"
     ]
    },
    {
     "data": {
      "text/plain": [
       "array([[3., 3., 3., 3.],\n",
       "       [3., 3., 3., 3.],\n",
       "       [3., 3., 3., 3.],\n",
       "       [3., 3., 3., 3.]])"
      ]
     },
     "execution_count": 21,
     "metadata": {},
     "output_type": "execute_result"
    }
   ],
   "source": [
    "print(np.dot(onesarray, onesarray.T)) # 3 x 3 matrix\n",
    "np.dot(onesarray.T, onesarray) # 4 x 4 matrix"
   ]
  },
  {
   "cell_type": "markdown",
   "id": "498b509c",
   "metadata": {},
   "source": [
    "Numpy 函数默认作用于整个数组："
   ]
  },
  {
   "cell_type": "code",
   "execution_count": 22,
   "id": "9aaec2cb",
   "metadata": {},
   "outputs": [
    {
     "data": {
      "text/plain": [
       "12.0"
      ]
     },
     "execution_count": 22,
     "metadata": {},
     "output_type": "execute_result"
    }
   ],
   "source": [
    "np.sum(onesarray)"
   ]
  },
  {
   "cell_type": "markdown",
   "id": "dc9d47dc",
   "metadata": {},
   "source": [
    "轴 0 是向下的轴（可以说是 y 轴），而轴 1 是横向的轴（x 轴）。 经常会使用带轴的平均值、总和等函数。"
   ]
  },
  {
   "cell_type": "code",
   "execution_count": 23,
   "id": "3455f603",
   "metadata": {},
   "outputs": [
    {
     "data": {
      "text/plain": [
       "array([3., 3., 3., 3.])"
      ]
     },
     "execution_count": 23,
     "metadata": {},
     "output_type": "execute_result"
    }
   ],
   "source": [
    "np.sum(onesarray, axis=0)"
   ]
  },
  {
   "cell_type": "code",
   "execution_count": 24,
   "id": "f2793627",
   "metadata": {},
   "outputs": [
    {
     "data": {
      "text/plain": [
       "array([4., 4., 4.])"
      ]
     },
     "execution_count": 24,
     "metadata": {},
     "output_type": "execute_result"
    }
   ],
   "source": [
    "np.sum(onesarray, axis=1)\n"
   ]
  },
  {
   "cell_type": "markdown",
   "id": "dd562530",
   "metadata": {},
   "source": [
    "根据需要查看文档以了解有关 numpy 函数的更多信息。"
   ]
  },
  {
   "cell_type": "markdown",
   "id": "6f704e75",
   "metadata": {},
   "source": [
    "## 计算八数码问题中的启发式信息： 不在目标位置的数码的数量"
   ]
  },
  {
   "cell_type": "code",
   "execution_count": 16,
   "id": "6af5dc7f",
   "metadata": {},
   "outputs": [
    {
     "name": "stdout",
     "output_type": "stream",
     "text": [
      "[[2 8 1]\n",
      " [0 4 3]\n",
      " [7 6 5]]\n",
      "**********\n",
      "[[1 2 3]\n",
      " [8 0 4]\n",
      " [7 6 5]]\n"
     ]
    },
    {
     "data": {
      "text/plain": [
       "6"
      ]
     },
     "execution_count": 16,
     "metadata": {},
     "output_type": "execute_result"
    }
   ],
   "source": [
    "state1 = np.array([[2,8,1],[0,4,3],[7,6,5]])\n",
    "# state1 = np.array([[2,8,3],[1,4,0],[7,6,5]])\n",
    "state2 = np.array([[1,2,3], [8,0,4],[7,6,5]])\n",
    "\n",
    "print( state1)\n",
    "print('*' * 10)\n",
    "print(state2)\n",
    "h1 = np.sum(state1 != state2)\n",
    "\n",
    "h1     "
   ]
  },
  {
   "cell_type": "markdown",
   "id": "effc8ba6",
   "metadata": {},
   "source": [
    "## 曼哈顿距离"
   ]
  },
  {
   "cell_type": "code",
   "execution_count": 17,
   "id": "cc8fb0f4",
   "metadata": {},
   "outputs": [],
   "source": [
    "def manhattan_distance(state, goal_state):\n",
    "    distance = 0\n",
    "    for i in range(3):\n",
    "        for j in range(3):\n",
    "            if state[i, j] != 0:  # 忽略空白格子\n",
    "                # 查找当前数字在目标状态中的位置\n",
    "                goal_position = np.where(goal_state == state[i, j])\n",
    "                cur = abs(i - goal_position[0]) + abs(j - goal_position[1])\n",
    "                distance += cur\n",
    "                print(\"checking {}, dis: {}\".format(state[i,j], cur))\n",
    "    return distance"
   ]
  },
  {
   "cell_type": "code",
   "execution_count": 18,
   "id": "de835427",
   "metadata": {},
   "outputs": [
    {
     "name": "stdout",
     "output_type": "stream",
     "text": [
      "checking 2, dis: [1]\n",
      "checking 8, dis: [2]\n",
      "checking 1, dis: [2]\n",
      "checking 4, dis: [1]\n",
      "checking 3, dis: [1]\n",
      "checking 7, dis: [0]\n",
      "checking 6, dis: [0]\n",
      "checking 5, dis: [0]\n",
      " Manhattan Distance: [7]\n"
     ]
    }
   ],
   "source": [
    "print(\" Manhattan Distance:\", manhattan_distance(state1, state2))"
   ]
  },
  {
   "cell_type": "markdown",
   "id": "f3900e66",
   "metadata": {},
   "source": [
    "### 练习：\n",
    "验证二维数组是否是列表型的。  \n",
    "（1）创建一个二维数组并显示该数组具有设定的（形状），\n",
    "（2）切片访问，你的代码应该以至少两种不同的方式对数组进行切片。"
   ]
  },
  {
   "cell_type": "code",
   "execution_count": 1,
   "id": "0d5ffc42",
   "metadata": {},
   "outputs": [],
   "source": [
    "# 请输入的代码\n"
   ]
  },
  {
   "cell_type": "markdown",
   "id": "5c2e2123",
   "metadata": {},
   "source": [
    "# Pandas简介"
   ]
  },
  {
   "cell_type": "markdown",
   "id": "76327409",
   "metadata": {},
   "source": [
    "方便的pandas[备忘录](images/Pandas_Cheat_Sheet_for_Data_Science_in_Python_hqirhp.webp)和 pandas 官方文档： https://pandas.pydata.org/pandas-docs/stable/reference/index.html"
   ]
  },
  {
   "cell_type": "markdown",
   "id": "de3d788a",
   "metadata": {},
   "source": [
    "数据通常存储在逗号分隔值 (CSV) 文件中。  \n",
    "在本讲义的剩余部分中，我们将处理汽车数据，我们在下面提取了相关部分的数据。   \n",
    "请注意，CSV 文件可以由任何电子表格软件显示和编辑，并且是纯文本，因此是共享数据的好方法。"
   ]
  },
  {
   "cell_type": "markdown",
   "id": "e60a4028",
   "metadata": {},
   "source": [
    "Description\n",
    "The data was extracted from the 1974 Motor Trend US magazine, and comprises fuel consumption and ten aspects of automobile design and performance for 32 automobiles (1973–74 models).\n",
    "\n",
    "Format\n",
    "\n",
    "A data frame with 32 observations on 11 variables.\n",
    "\n",
    "    [, 1]   mpg      Miles/(US) gallon  \n",
    "    [, 2]   cyl      Number of cylinders  \n",
    "    [, 3]   disp     Displacement (cu.in.)  \n",
    "    [, 4]   hp       Gross horsepower  \n",
    "    [, 5]   drat     Rear axle ratio  \n",
    "    [, 6]   wt       Weight (1000 lbs)  \n",
    "    [, 7]   qsec     1/4 mile time  \n",
    "    [, 8]   vs       V/S  \n",
    "    [, 9]   am       Transmission (0 = automatic, 1 = manual)   \n",
    "    [,10]   gear     Number of forward gears   \n",
    "    [,11]   carb     Number of carburetors\n",
    "\n",
    "Source\n",
    "Henderson and Velleman (1981), Building multiple regression models interactively. Biometrics, 37, 391–411."
   ]
  },
  {
   "cell_type": "markdown",
   "id": "07690e24",
   "metadata": {},
   "source": [
    "导入Pandas"
   ]
  },
  {
   "cell_type": "code",
   "execution_count": 10,
   "id": "b51f4986",
   "metadata": {},
   "outputs": [],
   "source": [
    "import pandas as pd"
   ]
  },
  {
   "cell_type": "markdown",
   "id": "0a1dd70d",
   "metadata": {},
   "source": [
    "## 使用 pandas 导入数据"
   ]
  },
  {
   "cell_type": "code",
   "execution_count": 11,
   "id": "c5436579",
   "metadata": {},
   "outputs": [
    {
     "data": {
      "text/plain": [
       "pandas.core.frame.DataFrame"
      ]
     },
     "execution_count": 11,
     "metadata": {},
     "output_type": "execute_result"
    }
   ],
   "source": [
    "# Read in the csv files\n",
    "dfcars=pd.read_csv(\"data/mtcars.csv\")\n",
    "type(dfcars)"
   ]
  },
  {
   "cell_type": "code",
   "execution_count": 12,
   "id": "44e45ca2",
   "metadata": {},
   "outputs": [
    {
     "data": {
      "text/html": [
       "<div>\n",
       "<style scoped>\n",
       "    .dataframe tbody tr th:only-of-type {\n",
       "        vertical-align: middle;\n",
       "    }\n",
       "\n",
       "    .dataframe tbody tr th {\n",
       "        vertical-align: top;\n",
       "    }\n",
       "\n",
       "    .dataframe thead th {\n",
       "        text-align: right;\n",
       "    }\n",
       "</style>\n",
       "<table border=\"1\" class=\"dataframe\">\n",
       "  <thead>\n",
       "    <tr style=\"text-align: right;\">\n",
       "      <th></th>\n",
       "      <th>Unnamed: 0</th>\n",
       "      <th>mpg</th>\n",
       "      <th>cyl</th>\n",
       "      <th>disp</th>\n",
       "      <th>hp</th>\n",
       "      <th>drat</th>\n",
       "      <th>wt</th>\n",
       "      <th>qsec</th>\n",
       "      <th>vs</th>\n",
       "      <th>am</th>\n",
       "      <th>gear</th>\n",
       "      <th>carb</th>\n",
       "    </tr>\n",
       "  </thead>\n",
       "  <tbody>\n",
       "    <tr>\n",
       "      <th>0</th>\n",
       "      <td>Mazda RX4</td>\n",
       "      <td>21.0</td>\n",
       "      <td>6</td>\n",
       "      <td>160.0</td>\n",
       "      <td>110</td>\n",
       "      <td>3.90</td>\n",
       "      <td>2.620</td>\n",
       "      <td>16.46</td>\n",
       "      <td>0</td>\n",
       "      <td>1</td>\n",
       "      <td>4</td>\n",
       "      <td>4</td>\n",
       "    </tr>\n",
       "    <tr>\n",
       "      <th>1</th>\n",
       "      <td>Mazda RX4 Wag</td>\n",
       "      <td>21.0</td>\n",
       "      <td>6</td>\n",
       "      <td>160.0</td>\n",
       "      <td>110</td>\n",
       "      <td>3.90</td>\n",
       "      <td>2.875</td>\n",
       "      <td>17.02</td>\n",
       "      <td>0</td>\n",
       "      <td>1</td>\n",
       "      <td>4</td>\n",
       "      <td>4</td>\n",
       "    </tr>\n",
       "    <tr>\n",
       "      <th>2</th>\n",
       "      <td>Datsun 710</td>\n",
       "      <td>22.8</td>\n",
       "      <td>4</td>\n",
       "      <td>108.0</td>\n",
       "      <td>93</td>\n",
       "      <td>3.85</td>\n",
       "      <td>2.320</td>\n",
       "      <td>18.61</td>\n",
       "      <td>1</td>\n",
       "      <td>1</td>\n",
       "      <td>4</td>\n",
       "      <td>1</td>\n",
       "    </tr>\n",
       "    <tr>\n",
       "      <th>3</th>\n",
       "      <td>Hornet 4 Drive</td>\n",
       "      <td>21.4</td>\n",
       "      <td>6</td>\n",
       "      <td>258.0</td>\n",
       "      <td>110</td>\n",
       "      <td>3.08</td>\n",
       "      <td>3.215</td>\n",
       "      <td>19.44</td>\n",
       "      <td>1</td>\n",
       "      <td>0</td>\n",
       "      <td>3</td>\n",
       "      <td>1</td>\n",
       "    </tr>\n",
       "    <tr>\n",
       "      <th>4</th>\n",
       "      <td>Hornet Sportabout</td>\n",
       "      <td>18.7</td>\n",
       "      <td>8</td>\n",
       "      <td>360.0</td>\n",
       "      <td>175</td>\n",
       "      <td>3.15</td>\n",
       "      <td>3.440</td>\n",
       "      <td>17.02</td>\n",
       "      <td>0</td>\n",
       "      <td>0</td>\n",
       "      <td>3</td>\n",
       "      <td>2</td>\n",
       "    </tr>\n",
       "  </tbody>\n",
       "</table>\n",
       "</div>"
      ],
      "text/plain": [
       "          Unnamed: 0   mpg  cyl   disp   hp  drat     wt   qsec  vs  am  gear  \\\n",
       "0          Mazda RX4  21.0    6  160.0  110  3.90  2.620  16.46   0   1     4   \n",
       "1      Mazda RX4 Wag  21.0    6  160.0  110  3.90  2.875  17.02   0   1     4   \n",
       "2         Datsun 710  22.8    4  108.0   93  3.85  2.320  18.61   1   1     4   \n",
       "3     Hornet 4 Drive  21.4    6  258.0  110  3.08  3.215  19.44   1   0     3   \n",
       "4  Hornet Sportabout  18.7    8  360.0  175  3.15  3.440  17.02   0   0     3   \n",
       "\n",
       "   carb  \n",
       "0     4  \n",
       "1     4  \n",
       "2     1  \n",
       "3     1  \n",
       "4     2  "
      ]
     },
     "execution_count": 12,
     "metadata": {},
     "output_type": "execute_result"
    }
   ],
   "source": [
    "dfcars.head() # 查看前5行数据"
   ]
  },
  {
   "cell_type": "markdown",
   "id": "10051827",
   "metadata": {},
   "source": [
    "我们现在拥有的是一个包含索引行和命名列的电子表格，在 pandas 中称为DataFrame。   \n",
    "dfcars 是 pd.DataFrame 类的实例，通过调用 pd.read_csv 函数创建。  \n",
    "\n",
    "dfcars 是一个DataFrame对象，并且它具有属于它的方法（函数）。 例如，df.head() 是一种显示数据帧前 5 行的方法。   \n",
    "\n",
    "DataFrame是粘贴到电子表格中的一组列，如下图所示，该示意图取自上面的备忘单。 pandas 中的列称为Series。"
   ]
  },
  {
   "attachments": {
    "Pandas_Cheat_Sheet_for_Data_Science_in_Python_hqirhp.webp": {
     "image/webp": "[encoded data removed]"
    }
   },
   "cell_type": "markdown",
   "id": "77e94500",
   "metadata": {},
   "source": [
    "![Pandas_Cheat_Sheet_for_Data_Science_in_Python_hqirhp.webp](attachment:Pandas_Cheat_Sheet_for_Data_Science_in_Python_hqirhp.webp)"
   ]
  },
  {
   "cell_type": "markdown",
   "id": "8c2a3ad4",
   "metadata": {},
   "source": []
  },
  {
   "cell_type": "markdown",
   "id": "57265137",
   "metadata": {},
   "source": [
    "请注意第一列命名不当：“未命名：0”。 为什么会发生这种事？\n",
    "\n",
    "第一列，好像是车名，其实没有名字。\n",
    "\n",
    "用‘name’来给这一列命名："
   ]
  },
  {
   "cell_type": "code",
   "execution_count": 13,
   "id": "899eb2a2",
   "metadata": {},
   "outputs": [
    {
     "data": {
      "text/html": [
       "<div>\n",
       "<style scoped>\n",
       "    .dataframe tbody tr th:only-of-type {\n",
       "        vertical-align: middle;\n",
       "    }\n",
       "\n",
       "    .dataframe tbody tr th {\n",
       "        vertical-align: top;\n",
       "    }\n",
       "\n",
       "    .dataframe thead th {\n",
       "        text-align: right;\n",
       "    }\n",
       "</style>\n",
       "<table border=\"1\" class=\"dataframe\">\n",
       "  <thead>\n",
       "    <tr style=\"text-align: right;\">\n",
       "      <th></th>\n",
       "      <th>name</th>\n",
       "      <th>mpg</th>\n",
       "      <th>cyl</th>\n",
       "      <th>disp</th>\n",
       "      <th>hp</th>\n",
       "      <th>drat</th>\n",
       "      <th>wt</th>\n",
       "      <th>qsec</th>\n",
       "      <th>vs</th>\n",
       "      <th>am</th>\n",
       "      <th>gear</th>\n",
       "      <th>carb</th>\n",
       "    </tr>\n",
       "  </thead>\n",
       "  <tbody>\n",
       "    <tr>\n",
       "      <th>0</th>\n",
       "      <td>Mazda RX4</td>\n",
       "      <td>21.0</td>\n",
       "      <td>6</td>\n",
       "      <td>160.0</td>\n",
       "      <td>110</td>\n",
       "      <td>3.90</td>\n",
       "      <td>2.620</td>\n",
       "      <td>16.46</td>\n",
       "      <td>0</td>\n",
       "      <td>1</td>\n",
       "      <td>4</td>\n",
       "      <td>4</td>\n",
       "    </tr>\n",
       "    <tr>\n",
       "      <th>1</th>\n",
       "      <td>Mazda RX4 Wag</td>\n",
       "      <td>21.0</td>\n",
       "      <td>6</td>\n",
       "      <td>160.0</td>\n",
       "      <td>110</td>\n",
       "      <td>3.90</td>\n",
       "      <td>2.875</td>\n",
       "      <td>17.02</td>\n",
       "      <td>0</td>\n",
       "      <td>1</td>\n",
       "      <td>4</td>\n",
       "      <td>4</td>\n",
       "    </tr>\n",
       "    <tr>\n",
       "      <th>2</th>\n",
       "      <td>Datsun 710</td>\n",
       "      <td>22.8</td>\n",
       "      <td>4</td>\n",
       "      <td>108.0</td>\n",
       "      <td>93</td>\n",
       "      <td>3.85</td>\n",
       "      <td>2.320</td>\n",
       "      <td>18.61</td>\n",
       "      <td>1</td>\n",
       "      <td>1</td>\n",
       "      <td>4</td>\n",
       "      <td>1</td>\n",
       "    </tr>\n",
       "    <tr>\n",
       "      <th>3</th>\n",
       "      <td>Hornet 4 Drive</td>\n",
       "      <td>21.4</td>\n",
       "      <td>6</td>\n",
       "      <td>258.0</td>\n",
       "      <td>110</td>\n",
       "      <td>3.08</td>\n",
       "      <td>3.215</td>\n",
       "      <td>19.44</td>\n",
       "      <td>1</td>\n",
       "      <td>0</td>\n",
       "      <td>3</td>\n",
       "      <td>1</td>\n",
       "    </tr>\n",
       "    <tr>\n",
       "      <th>4</th>\n",
       "      <td>Hornet Sportabout</td>\n",
       "      <td>18.7</td>\n",
       "      <td>8</td>\n",
       "      <td>360.0</td>\n",
       "      <td>175</td>\n",
       "      <td>3.15</td>\n",
       "      <td>3.440</td>\n",
       "      <td>17.02</td>\n",
       "      <td>0</td>\n",
       "      <td>0</td>\n",
       "      <td>3</td>\n",
       "      <td>2</td>\n",
       "    </tr>\n",
       "  </tbody>\n",
       "</table>\n",
       "</div>"
      ],
      "text/plain": [
       "                name   mpg  cyl   disp   hp  drat     wt   qsec  vs  am  gear  \\\n",
       "0          Mazda RX4  21.0    6  160.0  110  3.90  2.620  16.46   0   1     4   \n",
       "1      Mazda RX4 Wag  21.0    6  160.0  110  3.90  2.875  17.02   0   1     4   \n",
       "2         Datsun 710  22.8    4  108.0   93  3.85  2.320  18.61   1   1     4   \n",
       "3     Hornet 4 Drive  21.4    6  258.0  110  3.08  3.215  19.44   1   0     3   \n",
       "4  Hornet Sportabout  18.7    8  360.0  175  3.15  3.440  17.02   0   0     3   \n",
       "\n",
       "   carb  \n",
       "0     4  \n",
       "1     4  \n",
       "2     1  \n",
       "3     1  \n",
       "4     2  "
      ]
     },
     "execution_count": 13,
     "metadata": {},
     "output_type": "execute_result"
    }
   ],
   "source": [
    "dfcars = dfcars.rename(columns={\"Unnamed: 0\": \"name\"})\n",
    "dfcars.head()"
   ]
  },
  {
   "cell_type": "markdown",
   "id": "afd05fa7",
   "metadata": {},
   "source": [
    "要访问一列数据（Series类型），你可以使用字典语法或实例变量语法。  \n"
   ]
  },
  {
   "cell_type": "code",
   "execution_count": 14,
   "id": "e0ae393c",
   "metadata": {},
   "outputs": [
    {
     "data": {
      "text/plain": [
       "0     21.0\n",
       "1     21.0\n",
       "2     22.8\n",
       "3     21.4\n",
       "4     18.7\n",
       "5     18.1\n",
       "6     14.3\n",
       "7     24.4\n",
       "8     22.8\n",
       "9     19.2\n",
       "10    17.8\n",
       "11    16.4\n",
       "12    17.3\n",
       "13    15.2\n",
       "14    10.4\n",
       "15    10.4\n",
       "16    14.7\n",
       "17    32.4\n",
       "18    30.4\n",
       "19    33.9\n",
       "20    21.5\n",
       "21    15.5\n",
       "22    15.2\n",
       "23    13.3\n",
       "24    19.2\n",
       "25    27.3\n",
       "26    26.0\n",
       "27    30.4\n",
       "28    15.8\n",
       "29    19.7\n",
       "30    15.0\n",
       "31    21.4\n",
       "Name: mpg, dtype: float64"
      ]
     },
     "execution_count": 14,
     "metadata": {},
     "output_type": "execute_result"
    }
   ],
   "source": [
    "dfcars.mpg"
   ]
  },
  {
   "cell_type": "markdown",
   "id": "4c25c2b8",
   "metadata": {},
   "source": [
    "You can get a numpy array of values from the Pandas Series:"
   ]
  },
  {
   "cell_type": "code",
   "execution_count": 15,
   "id": "c9c50196",
   "metadata": {},
   "outputs": [
    {
     "data": {
      "text/plain": [
       "array([21. , 21. , 22.8, 21.4, 18.7, 18.1, 14.3, 24.4, 22.8, 19.2, 17.8,\n",
       "       16.4, 17.3, 15.2, 10.4, 10.4, 14.7, 32.4, 30.4, 33.9, 21.5, 15.5,\n",
       "       15.2, 13.3, 19.2, 27.3, 26. , 30.4, 15.8, 19.7, 15. , 21.4])"
      ]
     },
     "execution_count": 15,
     "metadata": {},
     "output_type": "execute_result"
    }
   ],
   "source": [
    "dfcars.mpg.values"
   ]
  },
  {
   "cell_type": "markdown",
   "id": "8249e6fd",
   "metadata": {},
   "source": [
    "Pandas 支持像字典一样访问列。 当列名包含空格时，这非常有用：Python 变量中不能包含空格。"
   ]
  },
  {
   "cell_type": "code",
   "execution_count": 16,
   "id": "bc6604d4",
   "metadata": {},
   "outputs": [
    {
     "data": {
      "text/plain": [
       "0     21.0\n",
       "1     21.0\n",
       "2     22.8\n",
       "3     21.4\n",
       "4     18.7\n",
       "5     18.1\n",
       "6     14.3\n",
       "7     24.4\n",
       "8     22.8\n",
       "9     19.2\n",
       "10    17.8\n",
       "11    16.4\n",
       "12    17.3\n",
       "13    15.2\n",
       "14    10.4\n",
       "15    10.4\n",
       "16    14.7\n",
       "17    32.4\n",
       "18    30.4\n",
       "19    33.9\n",
       "20    21.5\n",
       "21    15.5\n",
       "22    15.2\n",
       "23    13.3\n",
       "24    19.2\n",
       "25    27.3\n",
       "26    26.0\n",
       "27    30.4\n",
       "28    15.8\n",
       "29    19.7\n",
       "30    15.0\n",
       "31    21.4\n",
       "Name: mpg, dtype: float64"
      ]
     },
     "execution_count": 16,
     "metadata": {},
     "output_type": "execute_result"
    }
   ],
   "source": [
    "dfcars['mpg']"
   ]
  },
  {
   "cell_type": "markdown",
   "id": "e9cb7bbf",
   "metadata": {},
   "source": [
    "我们还可以通过选择一组系列来获取子数据帧。 我们将所需的列名称的列表作为“字典键”传递给数据帧。"
   ]
  },
  {
   "cell_type": "code",
   "execution_count": 17,
   "id": "9be92f70",
   "metadata": {},
   "outputs": [
    {
     "data": {
      "text/html": [
       "<div>\n",
       "<style scoped>\n",
       "    .dataframe tbody tr th:only-of-type {\n",
       "        vertical-align: middle;\n",
       "    }\n",
       "\n",
       "    .dataframe tbody tr th {\n",
       "        vertical-align: top;\n",
       "    }\n",
       "\n",
       "    .dataframe thead th {\n",
       "        text-align: right;\n",
       "    }\n",
       "</style>\n",
       "<table border=\"1\" class=\"dataframe\">\n",
       "  <thead>\n",
       "    <tr style=\"text-align: right;\">\n",
       "      <th></th>\n",
       "      <th>am</th>\n",
       "      <th>mpg</th>\n",
       "    </tr>\n",
       "  </thead>\n",
       "  <tbody>\n",
       "    <tr>\n",
       "      <th>0</th>\n",
       "      <td>1</td>\n",
       "      <td>21.0</td>\n",
       "    </tr>\n",
       "    <tr>\n",
       "      <th>1</th>\n",
       "      <td>1</td>\n",
       "      <td>21.0</td>\n",
       "    </tr>\n",
       "    <tr>\n",
       "      <th>2</th>\n",
       "      <td>1</td>\n",
       "      <td>22.8</td>\n",
       "    </tr>\n",
       "    <tr>\n",
       "      <th>3</th>\n",
       "      <td>0</td>\n",
       "      <td>21.4</td>\n",
       "    </tr>\n",
       "    <tr>\n",
       "      <th>4</th>\n",
       "      <td>0</td>\n",
       "      <td>18.7</td>\n",
       "    </tr>\n",
       "    <tr>\n",
       "      <th>5</th>\n",
       "      <td>0</td>\n",
       "      <td>18.1</td>\n",
       "    </tr>\n",
       "    <tr>\n",
       "      <th>6</th>\n",
       "      <td>0</td>\n",
       "      <td>14.3</td>\n",
       "    </tr>\n",
       "    <tr>\n",
       "      <th>7</th>\n",
       "      <td>0</td>\n",
       "      <td>24.4</td>\n",
       "    </tr>\n",
       "    <tr>\n",
       "      <th>8</th>\n",
       "      <td>0</td>\n",
       "      <td>22.8</td>\n",
       "    </tr>\n",
       "    <tr>\n",
       "      <th>9</th>\n",
       "      <td>0</td>\n",
       "      <td>19.2</td>\n",
       "    </tr>\n",
       "    <tr>\n",
       "      <th>10</th>\n",
       "      <td>0</td>\n",
       "      <td>17.8</td>\n",
       "    </tr>\n",
       "    <tr>\n",
       "      <th>11</th>\n",
       "      <td>0</td>\n",
       "      <td>16.4</td>\n",
       "    </tr>\n",
       "    <tr>\n",
       "      <th>12</th>\n",
       "      <td>0</td>\n",
       "      <td>17.3</td>\n",
       "    </tr>\n",
       "    <tr>\n",
       "      <th>13</th>\n",
       "      <td>0</td>\n",
       "      <td>15.2</td>\n",
       "    </tr>\n",
       "    <tr>\n",
       "      <th>14</th>\n",
       "      <td>0</td>\n",
       "      <td>10.4</td>\n",
       "    </tr>\n",
       "    <tr>\n",
       "      <th>15</th>\n",
       "      <td>0</td>\n",
       "      <td>10.4</td>\n",
       "    </tr>\n",
       "    <tr>\n",
       "      <th>16</th>\n",
       "      <td>0</td>\n",
       "      <td>14.7</td>\n",
       "    </tr>\n",
       "    <tr>\n",
       "      <th>17</th>\n",
       "      <td>1</td>\n",
       "      <td>32.4</td>\n",
       "    </tr>\n",
       "    <tr>\n",
       "      <th>18</th>\n",
       "      <td>1</td>\n",
       "      <td>30.4</td>\n",
       "    </tr>\n",
       "    <tr>\n",
       "      <th>19</th>\n",
       "      <td>1</td>\n",
       "      <td>33.9</td>\n",
       "    </tr>\n",
       "    <tr>\n",
       "      <th>20</th>\n",
       "      <td>0</td>\n",
       "      <td>21.5</td>\n",
       "    </tr>\n",
       "    <tr>\n",
       "      <th>21</th>\n",
       "      <td>0</td>\n",
       "      <td>15.5</td>\n",
       "    </tr>\n",
       "    <tr>\n",
       "      <th>22</th>\n",
       "      <td>0</td>\n",
       "      <td>15.2</td>\n",
       "    </tr>\n",
       "    <tr>\n",
       "      <th>23</th>\n",
       "      <td>0</td>\n",
       "      <td>13.3</td>\n",
       "    </tr>\n",
       "    <tr>\n",
       "      <th>24</th>\n",
       "      <td>0</td>\n",
       "      <td>19.2</td>\n",
       "    </tr>\n",
       "    <tr>\n",
       "      <th>25</th>\n",
       "      <td>1</td>\n",
       "      <td>27.3</td>\n",
       "    </tr>\n",
       "    <tr>\n",
       "      <th>26</th>\n",
       "      <td>1</td>\n",
       "      <td>26.0</td>\n",
       "    </tr>\n",
       "    <tr>\n",
       "      <th>27</th>\n",
       "      <td>1</td>\n",
       "      <td>30.4</td>\n",
       "    </tr>\n",
       "    <tr>\n",
       "      <th>28</th>\n",
       "      <td>1</td>\n",
       "      <td>15.8</td>\n",
       "    </tr>\n",
       "    <tr>\n",
       "      <th>29</th>\n",
       "      <td>1</td>\n",
       "      <td>19.7</td>\n",
       "    </tr>\n",
       "    <tr>\n",
       "      <th>30</th>\n",
       "      <td>1</td>\n",
       "      <td>15.0</td>\n",
       "    </tr>\n",
       "    <tr>\n",
       "      <th>31</th>\n",
       "      <td>1</td>\n",
       "      <td>21.4</td>\n",
       "    </tr>\n",
       "  </tbody>\n",
       "</table>\n",
       "</div>"
      ],
      "text/plain": [
       "    am   mpg\n",
       "0    1  21.0\n",
       "1    1  21.0\n",
       "2    1  22.8\n",
       "3    0  21.4\n",
       "4    0  18.7\n",
       "5    0  18.1\n",
       "6    0  14.3\n",
       "7    0  24.4\n",
       "8    0  22.8\n",
       "9    0  19.2\n",
       "10   0  17.8\n",
       "11   0  16.4\n",
       "12   0  17.3\n",
       "13   0  15.2\n",
       "14   0  10.4\n",
       "15   0  10.4\n",
       "16   0  14.7\n",
       "17   1  32.4\n",
       "18   1  30.4\n",
       "19   1  33.9\n",
       "20   0  21.5\n",
       "21   0  15.5\n",
       "22   0  15.2\n",
       "23   0  13.3\n",
       "24   0  19.2\n",
       "25   1  27.3\n",
       "26   1  26.0\n",
       "27   1  30.4\n",
       "28   1  15.8\n",
       "29   1  19.7\n",
       "30   1  15.0\n",
       "31   1  21.4"
      ]
     },
     "execution_count": 17,
     "metadata": {},
     "output_type": "execute_result"
    }
   ],
   "source": [
    "dfcars[['am', 'mpg']]"
   ]
  },
  {
   "cell_type": "markdown",
   "id": "f72a2492",
   "metadata": {},
   "source": [
    "###  DataFrame的属性"
   ]
  },
  {
   "cell_type": "markdown",
   "id": "8eb6e4b7",
   "metadata": {},
   "source": [
    "属性形状告诉我们数据帧的维度、数据帧中的行数和列数（行数、列数）。   \n",
    "len 函数输出数据帧中的行数。\n"
   ]
  },
  {
   "cell_type": "code",
   "execution_count": 18,
   "id": "1b5315f2",
   "metadata": {},
   "outputs": [
    {
     "name": "stdout",
     "output_type": "stream",
     "text": [
      "2\n",
      "(32, 12)\n",
      "384\n",
      "32\n",
      "32\n"
     ]
    }
   ],
   "source": [
    "print(dfcars.ndim)\n",
    "print(dfcars.shape)     # 12 columns, each of length 32\n",
    "print(dfcars.size)\n",
    "print(len(dfcars))      # the number of rows in the dataframe, also the length of a series\n",
    "print(len(dfcars.mpg))  # the length of a series"
   ]
  },
  {
   "cell_type": "markdown",
   "id": "98cfcebc",
   "metadata": {},
   "source": [
    "###  通过循环迭代"
   ]
  },
  {
   "cell_type": "markdown",
   "id": "65f690f1",
   "metadata": {},
   "source": [
    "DataFrame按列构造的后果之一是您无法轻松迭代DataFrame的行。 相反，我们迭代列，例如通过 for 循环打印出列名称。"
   ]
  },
  {
   "cell_type": "code",
   "execution_count": 19,
   "id": "33b9fa8c",
   "metadata": {},
   "outputs": [
    {
     "name": "stdout",
     "output_type": "stream",
     "text": [
      "name\n",
      "mpg\n",
      "cyl\n",
      "disp\n",
      "hp\n",
      "drat\n",
      "wt\n",
      "qsec\n",
      "vs\n",
      "am\n",
      "gear\n",
      "carb\n"
     ]
    }
   ],
   "source": [
    "for ele in dfcars: # iterating iterates over column names though, like a dictionary\n",
    "    print(ele)\n"
   ]
  },
  {
   "cell_type": "markdown",
   "id": "42d66fa8",
   "metadata": {},
   "source": [
    "或者我们可以调用属性列。 请注意下面输出中的索引。"
   ]
  },
  {
   "cell_type": "code",
   "execution_count": 20,
   "id": "2ab0216d",
   "metadata": {},
   "outputs": [
    {
     "data": {
      "text/plain": [
       "Index(['name', 'mpg', 'cyl', 'disp', 'hp', 'drat', 'wt', 'qsec', 'vs', 'am',\n",
       "       'gear', 'carb'],\n",
       "      dtype='object')"
      ]
     },
     "execution_count": 20,
     "metadata": {},
     "output_type": "execute_result"
    }
   ],
   "source": [
    "dfcars.columns"
   ]
  },
  {
   "cell_type": "markdown",
   "id": "d11d565e",
   "metadata": {},
   "source": [
    "我们可以像迭代列表一样迭代序列。  \n",
    "\n",
    "DataFrame逐列组合在一起，您应该能够编写不需要循环迭代的代码。 但如果您仍然需要迭代行，则可以使用 itertuples 来完成。 请参阅文档。"
   ]
  },
  {
   "cell_type": "markdown",
   "id": "9e4ec328",
   "metadata": {},
   "source": [
    "### 索引和切片访问"
   ]
  },
  {
   "cell_type": "markdown",
   "id": "5b60fdf6",
   "metadata": {},
   "source": [
    "与 Python 中的列表和 numpy 中的数组一样，数据帧和系列也是从零开始索引的。"
   ]
  },
  {
   "cell_type": "code",
   "execution_count": 21,
   "id": "69f34814",
   "metadata": {},
   "outputs": [
    {
     "name": "stdout",
     "output_type": "stream",
     "text": [
      "[0, 1, 2, 3, 4, 5, 6, 7, 8, 9, 10, 11, 12, 13, 14, 15, 16, 17, 18, 19, 20, 21, 22, 23, 24, 25, 26, 27, 28, 29, 30, 31]\n"
     ]
    }
   ],
   "source": [
    "# index for the dataframe\n",
    "print(list(dfcars.index))\n"
   ]
  },
  {
   "cell_type": "code",
   "execution_count": 22,
   "id": "cf76d608",
   "metadata": {},
   "outputs": [
    {
     "data": {
      "text/plain": [
       "RangeIndex(start=0, stop=32, step=1)"
      ]
     },
     "execution_count": 22,
     "metadata": {},
     "output_type": "execute_result"
    }
   ],
   "source": [
    "# index for the cyl series\n",
    "dfcars.cyl.index"
   ]
  },
  {
   "cell_type": "markdown",
   "id": "4e6ab4fa",
   "metadata": {},
   "source": [
    "有两种方法可以对DataFrame进行索引。  \n",
    "1. loc属性通过索引标签名称进行索引，   \n",
    "2. 而iloc通过索引中的位置顺序进行索引。  \n",
    "\n",
    "我们将通过稍微修改dfcars的版本来演示这一点，方法是重新标记dfcars的行索引，使其从5开始而不是从0开始。"
   ]
  },
  {
   "cell_type": "code",
   "execution_count": 23,
   "id": "050874d9",
   "metadata": {},
   "outputs": [
    {
     "data": {
      "text/html": [
       "<div>\n",
       "<style scoped>\n",
       "    .dataframe tbody tr th:only-of-type {\n",
       "        vertical-align: middle;\n",
       "    }\n",
       "\n",
       "    .dataframe tbody tr th {\n",
       "        vertical-align: top;\n",
       "    }\n",
       "\n",
       "    .dataframe thead th {\n",
       "        text-align: right;\n",
       "    }\n",
       "</style>\n",
       "<table border=\"1\" class=\"dataframe\">\n",
       "  <thead>\n",
       "    <tr style=\"text-align: right;\">\n",
       "      <th></th>\n",
       "      <th>name</th>\n",
       "      <th>mpg</th>\n",
       "      <th>cyl</th>\n",
       "      <th>disp</th>\n",
       "      <th>hp</th>\n",
       "      <th>drat</th>\n",
       "      <th>wt</th>\n",
       "      <th>qsec</th>\n",
       "      <th>vs</th>\n",
       "      <th>am</th>\n",
       "      <th>gear</th>\n",
       "      <th>carb</th>\n",
       "    </tr>\n",
       "  </thead>\n",
       "  <tbody>\n",
       "    <tr>\n",
       "      <th>5</th>\n",
       "      <td>Valiant</td>\n",
       "      <td>18.1</td>\n",
       "      <td>6.0</td>\n",
       "      <td>225.0</td>\n",
       "      <td>105.0</td>\n",
       "      <td>2.76</td>\n",
       "      <td>3.46</td>\n",
       "      <td>20.22</td>\n",
       "      <td>1.0</td>\n",
       "      <td>0.0</td>\n",
       "      <td>3.0</td>\n",
       "      <td>1.0</td>\n",
       "    </tr>\n",
       "    <tr>\n",
       "      <th>6</th>\n",
       "      <td>Duster 360</td>\n",
       "      <td>14.3</td>\n",
       "      <td>8.0</td>\n",
       "      <td>360.0</td>\n",
       "      <td>245.0</td>\n",
       "      <td>3.21</td>\n",
       "      <td>3.57</td>\n",
       "      <td>15.84</td>\n",
       "      <td>0.0</td>\n",
       "      <td>0.0</td>\n",
       "      <td>3.0</td>\n",
       "      <td>4.0</td>\n",
       "    </tr>\n",
       "    <tr>\n",
       "      <th>7</th>\n",
       "      <td>Merc 240D</td>\n",
       "      <td>24.4</td>\n",
       "      <td>4.0</td>\n",
       "      <td>146.7</td>\n",
       "      <td>62.0</td>\n",
       "      <td>3.69</td>\n",
       "      <td>3.19</td>\n",
       "      <td>20.00</td>\n",
       "      <td>1.0</td>\n",
       "      <td>0.0</td>\n",
       "      <td>4.0</td>\n",
       "      <td>2.0</td>\n",
       "    </tr>\n",
       "    <tr>\n",
       "      <th>8</th>\n",
       "      <td>Merc 230</td>\n",
       "      <td>22.8</td>\n",
       "      <td>4.0</td>\n",
       "      <td>140.8</td>\n",
       "      <td>95.0</td>\n",
       "      <td>3.92</td>\n",
       "      <td>3.15</td>\n",
       "      <td>22.90</td>\n",
       "      <td>1.0</td>\n",
       "      <td>0.0</td>\n",
       "      <td>4.0</td>\n",
       "      <td>2.0</td>\n",
       "    </tr>\n",
       "    <tr>\n",
       "      <th>9</th>\n",
       "      <td>Merc 280</td>\n",
       "      <td>19.2</td>\n",
       "      <td>6.0</td>\n",
       "      <td>167.6</td>\n",
       "      <td>123.0</td>\n",
       "      <td>3.92</td>\n",
       "      <td>3.44</td>\n",
       "      <td>18.30</td>\n",
       "      <td>1.0</td>\n",
       "      <td>0.0</td>\n",
       "      <td>4.0</td>\n",
       "      <td>4.0</td>\n",
       "    </tr>\n",
       "  </tbody>\n",
       "</table>\n",
       "</div>"
      ],
      "text/plain": [
       "         name   mpg  cyl   disp     hp  drat    wt   qsec   vs   am  gear  \\\n",
       "5     Valiant  18.1  6.0  225.0  105.0  2.76  3.46  20.22  1.0  0.0   3.0   \n",
       "6  Duster 360  14.3  8.0  360.0  245.0  3.21  3.57  15.84  0.0  0.0   3.0   \n",
       "7   Merc 240D  24.4  4.0  146.7   62.0  3.69  3.19  20.00  1.0  0.0   4.0   \n",
       "8    Merc 230  22.8  4.0  140.8   95.0  3.92  3.15  22.90  1.0  0.0   4.0   \n",
       "9    Merc 280  19.2  6.0  167.6  123.0  3.92  3.44  18.30  1.0  0.0   4.0   \n",
       "\n",
       "   carb  \n",
       "5   1.0  \n",
       "6   4.0  \n",
       "7   2.0  \n",
       "8   2.0  \n",
       "9   4.0  "
      ]
     },
     "execution_count": 23,
     "metadata": {},
     "output_type": "execute_result"
    }
   ],
   "source": [
    "import numpy as np\n",
    "# create values from 5 to 36\n",
    "new_index = np.arange(5, 37)\n",
    "# new dataframe with indexed rows from 5 to 36\n",
    "dfcars_reindex = dfcars.reindex(new_index)\n",
    "dfcars_reindex.head()"
   ]
  },
  {
   "cell_type": "markdown",
   "id": "5a1e73ec",
   "metadata": {},
   "source": [
    "我们现在用两种不同的方式返回dfcars_reindex的前三行，首先使用iloc，然后使用loc。使用iloc时，我们使用以下命令"
   ]
  },
  {
   "cell_type": "code",
   "execution_count": 24,
   "id": "a3ebb87c",
   "metadata": {},
   "outputs": [
    {
     "data": {
      "text/html": [
       "<div>\n",
       "<style scoped>\n",
       "    .dataframe tbody tr th:only-of-type {\n",
       "        vertical-align: middle;\n",
       "    }\n",
       "\n",
       "    .dataframe tbody tr th {\n",
       "        vertical-align: top;\n",
       "    }\n",
       "\n",
       "    .dataframe thead th {\n",
       "        text-align: right;\n",
       "    }\n",
       "</style>\n",
       "<table border=\"1\" class=\"dataframe\">\n",
       "  <thead>\n",
       "    <tr style=\"text-align: right;\">\n",
       "      <th></th>\n",
       "      <th>name</th>\n",
       "      <th>mpg</th>\n",
       "      <th>cyl</th>\n",
       "      <th>disp</th>\n",
       "      <th>hp</th>\n",
       "      <th>drat</th>\n",
       "      <th>wt</th>\n",
       "      <th>qsec</th>\n",
       "      <th>vs</th>\n",
       "      <th>am</th>\n",
       "      <th>gear</th>\n",
       "      <th>carb</th>\n",
       "    </tr>\n",
       "  </thead>\n",
       "  <tbody>\n",
       "    <tr>\n",
       "      <th>11</th>\n",
       "      <td>Merc 450SE</td>\n",
       "      <td>16.4</td>\n",
       "      <td>8.0</td>\n",
       "      <td>275.8</td>\n",
       "      <td>180.0</td>\n",
       "      <td>3.07</td>\n",
       "      <td>4.07</td>\n",
       "      <td>17.4</td>\n",
       "      <td>0.0</td>\n",
       "      <td>0.0</td>\n",
       "      <td>3.0</td>\n",
       "      <td>3.0</td>\n",
       "    </tr>\n",
       "    <tr>\n",
       "      <th>12</th>\n",
       "      <td>Merc 450SL</td>\n",
       "      <td>17.3</td>\n",
       "      <td>8.0</td>\n",
       "      <td>275.8</td>\n",
       "      <td>180.0</td>\n",
       "      <td>3.07</td>\n",
       "      <td>3.73</td>\n",
       "      <td>17.6</td>\n",
       "      <td>0.0</td>\n",
       "      <td>0.0</td>\n",
       "      <td>3.0</td>\n",
       "      <td>3.0</td>\n",
       "    </tr>\n",
       "  </tbody>\n",
       "</table>\n",
       "</div>"
      ],
      "text/plain": [
       "          name   mpg  cyl   disp     hp  drat    wt  qsec   vs   am  gear  \\\n",
       "11  Merc 450SE  16.4  8.0  275.8  180.0  3.07  4.07  17.4  0.0  0.0   3.0   \n",
       "12  Merc 450SL  17.3  8.0  275.8  180.0  3.07  3.73  17.6  0.0  0.0   3.0   \n",
       "\n",
       "    carb  \n",
       "11   3.0  \n",
       "12   3.0  "
      ]
     },
     "execution_count": 24,
     "metadata": {},
     "output_type": "execute_result"
    }
   ],
   "source": [
    "dfcars_reindex.iloc[6:8]"
   ]
  },
  {
   "cell_type": "markdown",
   "id": "91fd83f6",
   "metadata": {},
   "source": [
    "因为iloc使用的是索引中的顺序位置。请注意，使用iloc的参数0:3会返回DataFrame的前三行，这些行的标签名称为5、6和7。要用loc访问相同的行，我们写"
   ]
  },
  {
   "cell_type": "code",
   "execution_count": 25,
   "id": "c1f59420",
   "metadata": {},
   "outputs": [
    {
     "data": {
      "text/html": [
       "<div>\n",
       "<style scoped>\n",
       "    .dataframe tbody tr th:only-of-type {\n",
       "        vertical-align: middle;\n",
       "    }\n",
       "\n",
       "    .dataframe tbody tr th {\n",
       "        vertical-align: top;\n",
       "    }\n",
       "\n",
       "    .dataframe thead th {\n",
       "        text-align: right;\n",
       "    }\n",
       "</style>\n",
       "<table border=\"1\" class=\"dataframe\">\n",
       "  <thead>\n",
       "    <tr style=\"text-align: right;\">\n",
       "      <th></th>\n",
       "      <th>name</th>\n",
       "      <th>mpg</th>\n",
       "      <th>cyl</th>\n",
       "      <th>disp</th>\n",
       "      <th>hp</th>\n",
       "      <th>drat</th>\n",
       "      <th>wt</th>\n",
       "      <th>qsec</th>\n",
       "      <th>vs</th>\n",
       "      <th>am</th>\n",
       "      <th>gear</th>\n",
       "      <th>carb</th>\n",
       "    </tr>\n",
       "  </thead>\n",
       "  <tbody>\n",
       "    <tr>\n",
       "      <th>6</th>\n",
       "      <td>Duster 360</td>\n",
       "      <td>14.3</td>\n",
       "      <td>8.0</td>\n",
       "      <td>360.0</td>\n",
       "      <td>245.0</td>\n",
       "      <td>3.21</td>\n",
       "      <td>3.57</td>\n",
       "      <td>15.84</td>\n",
       "      <td>0.0</td>\n",
       "      <td>0.0</td>\n",
       "      <td>3.0</td>\n",
       "      <td>4.0</td>\n",
       "    </tr>\n",
       "    <tr>\n",
       "      <th>7</th>\n",
       "      <td>Merc 240D</td>\n",
       "      <td>24.4</td>\n",
       "      <td>4.0</td>\n",
       "      <td>146.7</td>\n",
       "      <td>62.0</td>\n",
       "      <td>3.69</td>\n",
       "      <td>3.19</td>\n",
       "      <td>20.00</td>\n",
       "      <td>1.0</td>\n",
       "      <td>0.0</td>\n",
       "      <td>4.0</td>\n",
       "      <td>2.0</td>\n",
       "    </tr>\n",
       "    <tr>\n",
       "      <th>8</th>\n",
       "      <td>Merc 230</td>\n",
       "      <td>22.8</td>\n",
       "      <td>4.0</td>\n",
       "      <td>140.8</td>\n",
       "      <td>95.0</td>\n",
       "      <td>3.92</td>\n",
       "      <td>3.15</td>\n",
       "      <td>22.90</td>\n",
       "      <td>1.0</td>\n",
       "      <td>0.0</td>\n",
       "      <td>4.0</td>\n",
       "      <td>2.0</td>\n",
       "    </tr>\n",
       "  </tbody>\n",
       "</table>\n",
       "</div>"
      ],
      "text/plain": [
       "         name   mpg  cyl   disp     hp  drat    wt   qsec   vs   am  gear  \\\n",
       "6  Duster 360  14.3  8.0  360.0  245.0  3.21  3.57  15.84  0.0  0.0   3.0   \n",
       "7   Merc 240D  24.4  4.0  146.7   62.0  3.69  3.19  20.00  1.0  0.0   4.0   \n",
       "8    Merc 230  22.8  4.0  140.8   95.0  3.92  3.15  22.90  1.0  0.0   4.0   \n",
       "\n",
       "   carb  \n",
       "6   4.0  \n",
       "7   2.0  \n",
       "8   2.0  "
      ]
     },
     "execution_count": 25,
     "metadata": {},
     "output_type": "execute_result"
    }
   ],
   "source": [
    "dfcars_reindex.loc[6:8] # or dfcars_reindex.loc[5:7]"
   ]
  },
  {
   "cell_type": "markdown",
   "id": "eaae18dc",
   "metadata": {},
   "source": [
    "因为loc是通过标签名称进行索引的。\n",
    "\n",
    "这里有另一个例子，我们返回dfcars_reindex中对应于列属性mpg、cyl和disp的三行。"
   ]
  },
  {
   "cell_type": "markdown",
   "id": "6e973887",
   "metadata": {},
   "source": [
    "首先使用iloc来完成："
   ]
  },
  {
   "cell_type": "code",
   "execution_count": 26,
   "id": "c32a6e75",
   "metadata": {},
   "outputs": [
    {
     "data": {
      "text/html": [
       "<div>\n",
       "<style scoped>\n",
       "    .dataframe tbody tr th:only-of-type {\n",
       "        vertical-align: middle;\n",
       "    }\n",
       "\n",
       "    .dataframe tbody tr th {\n",
       "        vertical-align: top;\n",
       "    }\n",
       "\n",
       "    .dataframe thead th {\n",
       "        text-align: right;\n",
       "    }\n",
       "</style>\n",
       "<table border=\"1\" class=\"dataframe\">\n",
       "  <thead>\n",
       "    <tr style=\"text-align: right;\">\n",
       "      <th></th>\n",
       "      <th>mpg</th>\n",
       "      <th>cyl</th>\n",
       "      <th>disp</th>\n",
       "    </tr>\n",
       "  </thead>\n",
       "  <tbody>\n",
       "    <tr>\n",
       "      <th>7</th>\n",
       "      <td>24.4</td>\n",
       "      <td>4.0</td>\n",
       "      <td>146.7</td>\n",
       "    </tr>\n",
       "    <tr>\n",
       "      <th>8</th>\n",
       "      <td>22.8</td>\n",
       "      <td>4.0</td>\n",
       "      <td>140.8</td>\n",
       "    </tr>\n",
       "    <tr>\n",
       "      <th>9</th>\n",
       "      <td>19.2</td>\n",
       "      <td>6.0</td>\n",
       "      <td>167.6</td>\n",
       "    </tr>\n",
       "  </tbody>\n",
       "</table>\n",
       "</div>"
      ],
      "text/plain": [
       "    mpg  cyl   disp\n",
       "7  24.4  4.0  146.7\n",
       "8  22.8  4.0  140.8\n",
       "9  19.2  6.0  167.6"
      ]
     },
     "execution_count": 26,
     "metadata": {},
     "output_type": "execute_result"
    }
   ],
   "source": [
    "dfcars_reindex.iloc[2:5, 1:4]"
   ]
  },
  {
   "cell_type": "markdown",
   "id": "6320a637",
   "metadata": {},
   "source": [
    "请注意，我们正在访问的行2、3和4，其标签名称为7、8和9，我们正在访问的列1、2和3，其标签名称为mpg、cyl和disp。    \n",
    "因此，无论是行还是列，我们都是使用整数位置索引来访问DataFrame的元素。"
   ]
  },
  {
   "cell_type": "markdown",
   "id": "badc37ff",
   "metadata": {},
   "source": [
    "现在让我们使用loc来做："
   ]
  },
  {
   "cell_type": "code",
   "execution_count": 27,
   "id": "4a5195a4",
   "metadata": {},
   "outputs": [
    {
     "data": {
      "text/html": [
       "<div>\n",
       "<style scoped>\n",
       "    .dataframe tbody tr th:only-of-type {\n",
       "        vertical-align: middle;\n",
       "    }\n",
       "\n",
       "    .dataframe tbody tr th {\n",
       "        vertical-align: top;\n",
       "    }\n",
       "\n",
       "    .dataframe thead th {\n",
       "        text-align: right;\n",
       "    }\n",
       "</style>\n",
       "<table border=\"1\" class=\"dataframe\">\n",
       "  <thead>\n",
       "    <tr style=\"text-align: right;\">\n",
       "      <th></th>\n",
       "      <th>mpg</th>\n",
       "      <th>cyl</th>\n",
       "      <th>disp</th>\n",
       "    </tr>\n",
       "  </thead>\n",
       "  <tbody>\n",
       "    <tr>\n",
       "      <th>7</th>\n",
       "      <td>24.4</td>\n",
       "      <td>4.0</td>\n",
       "      <td>146.7</td>\n",
       "    </tr>\n",
       "    <tr>\n",
       "      <th>8</th>\n",
       "      <td>22.8</td>\n",
       "      <td>4.0</td>\n",
       "      <td>140.8</td>\n",
       "    </tr>\n",
       "    <tr>\n",
       "      <th>9</th>\n",
       "      <td>19.2</td>\n",
       "      <td>6.0</td>\n",
       "      <td>167.6</td>\n",
       "    </tr>\n",
       "  </tbody>\n",
       "</table>\n",
       "</div>"
      ],
      "text/plain": [
       "    mpg  cyl   disp\n",
       "7  24.4  4.0  146.7\n",
       "8  22.8  4.0  140.8\n",
       "9  19.2  6.0  167.6"
      ]
     },
     "execution_count": 27,
     "metadata": {},
     "output_type": "execute_result"
    }
   ],
   "source": [
    "dfcars_reindex.loc[7:9, ['mpg', 'cyl', 'disp']]"
   ]
  },
  {
   "cell_type": "markdown",
   "id": "50049384",
   "metadata": {},
   "source": [
    "我们不必像在数据作为Numpy数组存储时那样记住disp是DataFrame的第三列——我们可以简单地使用loc通过标签名称disp来访问它。\n",
    "\n",
    "通常，我们倾向于使用iloc来索引行，使用loc来索引列。"
   ]
  },
  {
   "cell_type": "markdown",
   "id": "b7dca320",
   "metadata": {},
   "source": [
    "\n",
    "**练习**：   \n",
    "在这个练习中，你将查阅文档来从头开始生成一个简单DataFrame。前往文档，并在目录中点击“10 minutes to pandas”进行学习。然后执行以下操作：\n",
    "\n",
    "创建一个名为column_1的Series，数据为0, 1, 2, 3。\n",
    "\n",
    "创建第二个名为column_2的Series，数据为4, 5, 6, 7。\n",
    "\n",
    "将这些序列粘合成一个名为table的DataFrame，其中DataFrame的第一和第二标签列分别为column_1和column_2。在DataFrame中，column_1应该被索引为col_1，column_2应该被索引为col_2。\n",
    "\n",
    "哎呀！你改变主意了，关于列的索引标签。使用rename将col_1重命名为Col_1，将col_2重命名为Col_2。\n",
    "\n",
    "拓展：你能弄清楚如何重命名行索引吗？尝试将0重命名为zero，1重命名为one，依此类推。"
   ]
  },
  {
   "cell_type": "code",
   "execution_count": 36,
   "id": "70386b75",
   "metadata": {},
   "outputs": [],
   "source": [
    "# 请输入你的代码\n",
    "\n",
    "# 读取数据集， 保存到worldcup 变量；\n",
    "worldcup = pd.read_csv('data/World Cup 2018 Dataset.csv')\n",
    "\n"
   ]
  },
  {
   "cell_type": "code",
   "execution_count": 37,
   "id": "b5616823",
   "metadata": {},
   "outputs": [
    {
     "data": {
      "text/html": [
       "<div>\n",
       "<style scoped>\n",
       "    .dataframe tbody tr th:only-of-type {\n",
       "        vertical-align: middle;\n",
       "    }\n",
       "\n",
       "    .dataframe tbody tr th {\n",
       "        vertical-align: top;\n",
       "    }\n",
       "\n",
       "    .dataframe thead th {\n",
       "        text-align: right;\n",
       "    }\n",
       "</style>\n",
       "<table border=\"1\" class=\"dataframe\">\n",
       "  <thead>\n",
       "    <tr style=\"text-align: right;\">\n",
       "      <th></th>\n",
       "      <th>Team</th>\n",
       "      <th>Group</th>\n",
       "      <th>Previous \\nappearances</th>\n",
       "      <th>Previous \\ntitles</th>\n",
       "      <th>Previous\\n finals</th>\n",
       "      <th>Previous\\n semifinals</th>\n",
       "      <th>Current \\nFIFA rank</th>\n",
       "      <th>First match \\nagainst</th>\n",
       "      <th>Match index</th>\n",
       "      <th>history with \\nfirst opponent\\n W-L</th>\n",
       "      <th>history with\\n first opponent\\n goals</th>\n",
       "      <th>Second match\\n against</th>\n",
       "      <th>Match index.1</th>\n",
       "      <th>history with\\n second opponent\\n W-L</th>\n",
       "      <th>history with\\n second opponent\\n goals</th>\n",
       "      <th>Third match\\n against</th>\n",
       "      <th>Match index.2</th>\n",
       "      <th>history with\\n third opponent\\n W-L</th>\n",
       "      <th>history with\\n third opponent\\n goals</th>\n",
       "    </tr>\n",
       "  </thead>\n",
       "  <tbody>\n",
       "    <tr>\n",
       "      <th>0</th>\n",
       "      <td>Russia</td>\n",
       "      <td>A</td>\n",
       "      <td>10</td>\n",
       "      <td>0</td>\n",
       "      <td>0</td>\n",
       "      <td>1</td>\n",
       "      <td>65</td>\n",
       "      <td>Saudi Arabia</td>\n",
       "      <td>1</td>\n",
       "      <td>-1.0</td>\n",
       "      <td>-2.0</td>\n",
       "      <td>Egypt</td>\n",
       "      <td>17</td>\n",
       "      <td>NaN</td>\n",
       "      <td>NaN</td>\n",
       "      <td>Uruguay</td>\n",
       "      <td>33</td>\n",
       "      <td>0.0</td>\n",
       "      <td>0.0</td>\n",
       "    </tr>\n",
       "    <tr>\n",
       "      <th>1</th>\n",
       "      <td>Saudi Arabia</td>\n",
       "      <td>A</td>\n",
       "      <td>4</td>\n",
       "      <td>0</td>\n",
       "      <td>0</td>\n",
       "      <td>0</td>\n",
       "      <td>63</td>\n",
       "      <td>Russia</td>\n",
       "      <td>1</td>\n",
       "      <td>1.0</td>\n",
       "      <td>2.0</td>\n",
       "      <td>Uruguay</td>\n",
       "      <td>18</td>\n",
       "      <td>1.0</td>\n",
       "      <td>1.0</td>\n",
       "      <td>Egypt</td>\n",
       "      <td>34</td>\n",
       "      <td>-5.0</td>\n",
       "      <td>-5.0</td>\n",
       "    </tr>\n",
       "    <tr>\n",
       "      <th>2</th>\n",
       "      <td>Egypt</td>\n",
       "      <td>A</td>\n",
       "      <td>2</td>\n",
       "      <td>0</td>\n",
       "      <td>0</td>\n",
       "      <td>0</td>\n",
       "      <td>31</td>\n",
       "      <td>Uruguay</td>\n",
       "      <td>2</td>\n",
       "      <td>-1.0</td>\n",
       "      <td>-2.0</td>\n",
       "      <td>Russia</td>\n",
       "      <td>17</td>\n",
       "      <td>NaN</td>\n",
       "      <td>NaN</td>\n",
       "      <td>Saudi Arabia</td>\n",
       "      <td>34</td>\n",
       "      <td>5.0</td>\n",
       "      <td>5.0</td>\n",
       "    </tr>\n",
       "    <tr>\n",
       "      <th>3</th>\n",
       "      <td>Uruguay</td>\n",
       "      <td>A</td>\n",
       "      <td>12</td>\n",
       "      <td>2</td>\n",
       "      <td>2</td>\n",
       "      <td>5</td>\n",
       "      <td>21</td>\n",
       "      <td>Egypt</td>\n",
       "      <td>2</td>\n",
       "      <td>1.0</td>\n",
       "      <td>2.0</td>\n",
       "      <td>Saudi Arabia</td>\n",
       "      <td>18</td>\n",
       "      <td>-1.0</td>\n",
       "      <td>-1.0</td>\n",
       "      <td>Russia</td>\n",
       "      <td>33</td>\n",
       "      <td>0.0</td>\n",
       "      <td>0.0</td>\n",
       "    </tr>\n",
       "    <tr>\n",
       "      <th>4</th>\n",
       "      <td>Porugal</td>\n",
       "      <td>B</td>\n",
       "      <td>6</td>\n",
       "      <td>0</td>\n",
       "      <td>0</td>\n",
       "      <td>2</td>\n",
       "      <td>3</td>\n",
       "      <td>Spain</td>\n",
       "      <td>3</td>\n",
       "      <td>-12.0</td>\n",
       "      <td>-31.0</td>\n",
       "      <td>Morocco</td>\n",
       "      <td>19</td>\n",
       "      <td>-1.0</td>\n",
       "      <td>-2.0</td>\n",
       "      <td>Iran</td>\n",
       "      <td>35</td>\n",
       "      <td>2.0</td>\n",
       "      <td>5.0</td>\n",
       "    </tr>\n",
       "  </tbody>\n",
       "</table>\n",
       "</div>"
      ],
      "text/plain": [
       "           Team Group  Previous \\nappearances  Previous \\ntitles  \\\n",
       "0        Russia     A                      10                  0   \n",
       "1  Saudi Arabia     A                       4                  0   \n",
       "2         Egypt     A                       2                  0   \n",
       "3       Uruguay     A                      12                  2   \n",
       "4       Porugal     B                       6                  0   \n",
       "\n",
       "   Previous\\n finals  Previous\\n semifinals  Current \\nFIFA rank  \\\n",
       "0                  0                      1                   65   \n",
       "1                  0                      0                   63   \n",
       "2                  0                      0                   31   \n",
       "3                  2                      5                   21   \n",
       "4                  0                      2                    3   \n",
       "\n",
       "  First match \\nagainst  Match index  history with \\nfirst opponent\\n W-L  \\\n",
       "0          Saudi Arabia            1                                 -1.0   \n",
       "1                Russia            1                                  1.0   \n",
       "2               Uruguay            2                                 -1.0   \n",
       "3                 Egypt            2                                  1.0   \n",
       "4                 Spain            3                                -12.0   \n",
       "\n",
       "   history with\\n first opponent\\n goals Second match\\n against  \\\n",
       "0                                   -2.0                  Egypt   \n",
       "1                                    2.0                Uruguay   \n",
       "2                                   -2.0                 Russia   \n",
       "3                                    2.0           Saudi Arabia   \n",
       "4                                  -31.0                Morocco   \n",
       "\n",
       "   Match index.1  history with\\n second opponent\\n W-L  \\\n",
       "0             17                                   NaN   \n",
       "1             18                                   1.0   \n",
       "2             17                                   NaN   \n",
       "3             18                                  -1.0   \n",
       "4             19                                  -1.0   \n",
       "\n",
       "   history with\\n second opponent\\n goals Third match\\n against  \\\n",
       "0                                     NaN               Uruguay   \n",
       "1                                     1.0                 Egypt   \n",
       "2                                     NaN          Saudi Arabia   \n",
       "3                                    -1.0                Russia   \n",
       "4                                    -2.0                  Iran   \n",
       "\n",
       "   Match index.2  history with\\n third opponent\\n W-L  \\\n",
       "0             33                                  0.0   \n",
       "1             34                                 -5.0   \n",
       "2             34                                  5.0   \n",
       "3             33                                  0.0   \n",
       "4             35                                  2.0   \n",
       "\n",
       "   history with\\n third opponent\\n goals  \n",
       "0                                    0.0  \n",
       "1                                   -5.0  \n",
       "2                                    5.0  \n",
       "3                                    0.0  \n",
       "4                                    5.0  "
      ]
     },
     "execution_count": 37,
     "metadata": {},
     "output_type": "execute_result"
    }
   ],
   "source": [
    "# 查看前5行数据； \n",
    "worldcup.head()\n"
   ]
  },
  {
   "cell_type": "code",
   "execution_count": 42,
   "id": "4eb1d139",
   "metadata": {},
   "outputs": [
    {
     "data": {
      "text/html": [
       "<div>\n",
       "<style scoped>\n",
       "    .dataframe tbody tr th:only-of-type {\n",
       "        vertical-align: middle;\n",
       "    }\n",
       "\n",
       "    .dataframe tbody tr th {\n",
       "        vertical-align: top;\n",
       "    }\n",
       "\n",
       "    .dataframe thead th {\n",
       "        text-align: right;\n",
       "    }\n",
       "</style>\n",
       "<table border=\"1\" class=\"dataframe\">\n",
       "  <thead>\n",
       "    <tr style=\"text-align: right;\">\n",
       "      <th></th>\n",
       "      <th>Team</th>\n",
       "      <th>Previous \\ntitles</th>\n",
       "    </tr>\n",
       "  </thead>\n",
       "  <tbody>\n",
       "    <tr>\n",
       "      <th>0</th>\n",
       "      <td>Russia</td>\n",
       "      <td>0</td>\n",
       "    </tr>\n",
       "    <tr>\n",
       "      <th>1</th>\n",
       "      <td>Saudi Arabia</td>\n",
       "      <td>0</td>\n",
       "    </tr>\n",
       "    <tr>\n",
       "      <th>2</th>\n",
       "      <td>Egypt</td>\n",
       "      <td>0</td>\n",
       "    </tr>\n",
       "    <tr>\n",
       "      <th>3</th>\n",
       "      <td>Uruguay</td>\n",
       "      <td>2</td>\n",
       "    </tr>\n",
       "    <tr>\n",
       "      <th>4</th>\n",
       "      <td>Porugal</td>\n",
       "      <td>0</td>\n",
       "    </tr>\n",
       "    <tr>\n",
       "      <th>5</th>\n",
       "      <td>Spain</td>\n",
       "      <td>1</td>\n",
       "    </tr>\n",
       "    <tr>\n",
       "      <th>6</th>\n",
       "      <td>Morocco</td>\n",
       "      <td>0</td>\n",
       "    </tr>\n",
       "    <tr>\n",
       "      <th>7</th>\n",
       "      <td>IRAN</td>\n",
       "      <td>0</td>\n",
       "    </tr>\n",
       "    <tr>\n",
       "      <th>8</th>\n",
       "      <td>France</td>\n",
       "      <td>1</td>\n",
       "    </tr>\n",
       "    <tr>\n",
       "      <th>9</th>\n",
       "      <td>Australia</td>\n",
       "      <td>0</td>\n",
       "    </tr>\n",
       "    <tr>\n",
       "      <th>10</th>\n",
       "      <td>Peru</td>\n",
       "      <td>0</td>\n",
       "    </tr>\n",
       "    <tr>\n",
       "      <th>11</th>\n",
       "      <td>Denmark</td>\n",
       "      <td>0</td>\n",
       "    </tr>\n",
       "    <tr>\n",
       "      <th>12</th>\n",
       "      <td>Argentina</td>\n",
       "      <td>2</td>\n",
       "    </tr>\n",
       "    <tr>\n",
       "      <th>13</th>\n",
       "      <td>Iceland</td>\n",
       "      <td>0</td>\n",
       "    </tr>\n",
       "    <tr>\n",
       "      <th>14</th>\n",
       "      <td>Croatia</td>\n",
       "      <td>0</td>\n",
       "    </tr>\n",
       "    <tr>\n",
       "      <th>15</th>\n",
       "      <td>Nigeria</td>\n",
       "      <td>0</td>\n",
       "    </tr>\n",
       "    <tr>\n",
       "      <th>16</th>\n",
       "      <td>Brazil</td>\n",
       "      <td>5</td>\n",
       "    </tr>\n",
       "    <tr>\n",
       "      <th>17</th>\n",
       "      <td>Switzerland</td>\n",
       "      <td>0</td>\n",
       "    </tr>\n",
       "    <tr>\n",
       "      <th>18</th>\n",
       "      <td>Costarica</td>\n",
       "      <td>0</td>\n",
       "    </tr>\n",
       "    <tr>\n",
       "      <th>19</th>\n",
       "      <td>Serbia</td>\n",
       "      <td>0</td>\n",
       "    </tr>\n",
       "    <tr>\n",
       "      <th>20</th>\n",
       "      <td>Germany</td>\n",
       "      <td>4</td>\n",
       "    </tr>\n",
       "    <tr>\n",
       "      <th>21</th>\n",
       "      <td>Mexico</td>\n",
       "      <td>0</td>\n",
       "    </tr>\n",
       "    <tr>\n",
       "      <th>22</th>\n",
       "      <td>Sweden</td>\n",
       "      <td>0</td>\n",
       "    </tr>\n",
       "    <tr>\n",
       "      <th>23</th>\n",
       "      <td>Korea</td>\n",
       "      <td>0</td>\n",
       "    </tr>\n",
       "    <tr>\n",
       "      <th>24</th>\n",
       "      <td>Belgium</td>\n",
       "      <td>0</td>\n",
       "    </tr>\n",
       "    <tr>\n",
       "      <th>25</th>\n",
       "      <td>Panama</td>\n",
       "      <td>0</td>\n",
       "    </tr>\n",
       "    <tr>\n",
       "      <th>26</th>\n",
       "      <td>Tunisia</td>\n",
       "      <td>0</td>\n",
       "    </tr>\n",
       "    <tr>\n",
       "      <th>27</th>\n",
       "      <td>England</td>\n",
       "      <td>1</td>\n",
       "    </tr>\n",
       "    <tr>\n",
       "      <th>28</th>\n",
       "      <td>Poland</td>\n",
       "      <td>0</td>\n",
       "    </tr>\n",
       "    <tr>\n",
       "      <th>29</th>\n",
       "      <td>Senegal</td>\n",
       "      <td>0</td>\n",
       "    </tr>\n",
       "    <tr>\n",
       "      <th>30</th>\n",
       "      <td>Columbia</td>\n",
       "      <td>0</td>\n",
       "    </tr>\n",
       "    <tr>\n",
       "      <th>31</th>\n",
       "      <td>Japan</td>\n",
       "      <td>0</td>\n",
       "    </tr>\n",
       "  </tbody>\n",
       "</table>\n",
       "</div>"
      ],
      "text/plain": [
       "            Team  Previous \\ntitles\n",
       "0         Russia                  0\n",
       "1   Saudi Arabia                  0\n",
       "2          Egypt                  0\n",
       "3        Uruguay                  2\n",
       "4        Porugal                  0\n",
       "5          Spain                  1\n",
       "6        Morocco                  0\n",
       "7           IRAN                  0\n",
       "8         France                  1\n",
       "9      Australia                  0\n",
       "10          Peru                  0\n",
       "11       Denmark                  0\n",
       "12     Argentina                  2\n",
       "13       Iceland                  0\n",
       "14       Croatia                  0\n",
       "15       Nigeria                  0\n",
       "16        Brazil                  5\n",
       "17   Switzerland                  0\n",
       "18     Costarica                  0\n",
       "19        Serbia                  0\n",
       "20       Germany                  4\n",
       "21        Mexico                  0\n",
       "22        Sweden                  0\n",
       "23         Korea                  0\n",
       "24       Belgium                  0\n",
       "25        Panama                  0\n",
       "26       Tunisia                  0\n",
       "27       England                  1\n",
       "28        Poland                  0\n",
       "29       Senegal                  0\n",
       "30      Columbia                  0\n",
       "31         Japan                  0"
      ]
     },
     "execution_count": 42,
     "metadata": {},
     "output_type": "execute_result"
    }
   ],
   "source": [
    "\n",
    "# 查看 team， previous title \n",
    "worldcup[['Team','Previous \\ntitles']]\n",
    "\n"
   ]
  },
  {
   "cell_type": "code",
   "execution_count": 44,
   "id": "0e85d5e6",
   "metadata": {},
   "outputs": [
    {
     "data": {
      "text/html": [
       "<div>\n",
       "<style scoped>\n",
       "    .dataframe tbody tr th:only-of-type {\n",
       "        vertical-align: middle;\n",
       "    }\n",
       "\n",
       "    .dataframe tbody tr th {\n",
       "        vertical-align: top;\n",
       "    }\n",
       "\n",
       "    .dataframe thead th {\n",
       "        text-align: right;\n",
       "    }\n",
       "</style>\n",
       "<table border=\"1\" class=\"dataframe\">\n",
       "  <thead>\n",
       "    <tr style=\"text-align: right;\">\n",
       "      <th></th>\n",
       "      <th>Team</th>\n",
       "      <th>Previous \\ntitles</th>\n",
       "    </tr>\n",
       "  </thead>\n",
       "  <tbody>\n",
       "    <tr>\n",
       "      <th>0</th>\n",
       "      <td>Russia</td>\n",
       "      <td>0</td>\n",
       "    </tr>\n",
       "    <tr>\n",
       "      <th>1</th>\n",
       "      <td>Saudi Arabia</td>\n",
       "      <td>0</td>\n",
       "    </tr>\n",
       "    <tr>\n",
       "      <th>2</th>\n",
       "      <td>Egypt</td>\n",
       "      <td>0</td>\n",
       "    </tr>\n",
       "    <tr>\n",
       "      <th>3</th>\n",
       "      <td>Uruguay</td>\n",
       "      <td>2</td>\n",
       "    </tr>\n",
       "    <tr>\n",
       "      <th>4</th>\n",
       "      <td>Porugal</td>\n",
       "      <td>0</td>\n",
       "    </tr>\n",
       "  </tbody>\n",
       "</table>\n",
       "</div>"
      ],
      "text/plain": [
       "           Team  Previous \\ntitles\n",
       "0        Russia                  0\n",
       "1  Saudi Arabia                  0\n",
       "2         Egypt                  0\n",
       "3       Uruguay                  2\n",
       "4       Porugal                  0"
      ]
     },
     "execution_count": 44,
     "metadata": {},
     "output_type": "execute_result"
    }
   ],
   "source": [
    "# 查看 第1-5 行的， team， previous title ，\n",
    "worldcup.loc[0:4, ['Team','Previous \\ntitles']]"
   ]
  },
  {
   "cell_type": "markdown",
   "id": "f5dc5598",
   "metadata": {},
   "source": [
    "# Matplotlib"
   ]
  },
  {
   "cell_type": "markdown",
   "id": "ac83f394",
   "metadata": {},
   "source": [
    "## What is Matplotlib?"
   ]
  },
  {
   "cell_type": "markdown",
   "id": "99d75869",
   "metadata": {},
   "source": [
    "* Matplotlib 是一个开源的绘图库，支持各种绘图类型。\n",
    "* 你可以只用几行代码就生成图表、直方图、条形图以及其他类型的图表。\n",
    "* 它经常被用于 web 应用程序服务器、Shell 和 Python 脚本中。"
   ]
  },
  {
   "cell_type": "markdown",
   "id": "ba029c6c",
   "metadata": {},
   "source": [
    "## Getting Started With Pyplot"
   ]
  },
  {
   "cell_type": "markdown",
   "id": "46962d5f",
   "metadata": {},
   "source": [
    "Pyplot 是一个 Matplotlib 模块，它提供了简单的功能，用于将绘图元素（例如线条、图像、文本等）添加到当前图形中的轴。\n",
    "\n",
    "让我们从一个简单的图表开始我们的教程，该图表使用 Jupyter Notebook 中的基本 Matplotlib 代码。"
   ]
  },
  {
   "cell_type": "code",
   "execution_count": 62,
   "id": "00b077e7",
   "metadata": {},
   "outputs": [
    {
     "name": "stdout",
     "output_type": "stream",
     "text": [
      "[0 1 2 3 4 5 6 7 8 9]\n",
      "[ 0  2  4  6  8 10 12 14 16 18]\n"
     ]
    }
   ],
   "source": [
    "import numpy as np\n",
    "x = np.arange(0,10)\n",
    "y = x*2\n",
    "print(x)\n",
    "print(y)"
   ]
  },
  {
   "cell_type": "markdown",
   "id": "9d62b2ea",
   "metadata": {},
   "source": []
  },
  {
   "cell_type": "code",
   "execution_count": 46,
   "id": "536d5775",
   "metadata": {},
   "outputs": [],
   "source": [
    "import matplotlib.pyplot as plt\n"
   ]
  },
  {
   "cell_type": "markdown",
   "id": "d23aeff3",
   "metadata": {},
   "source": [
    "### 练习1"
   ]
  },
  {
   "cell_type": "code",
   "execution_count": 3,
   "id": "2edc8792",
   "metadata": {},
   "outputs": [
    {
     "data": {
      "image/png": "[encoded data removed]",
      "text/plain": [
       "<Figure size 640x480 with 1 Axes>"
      ]
     },
     "metadata": {},
     "output_type": "display_data"
    }
   ],
   "source": [
    "plt.plot(x, y) \n",
    "plt.xlabel('x')\n",
    "plt.ylabel('y')\n",
    "# function to show the plot \n",
    "plt.show()"
   ]
  },
  {
   "cell_type": "code",
   "execution_count": 4,
   "id": "e519aabf",
   "metadata": {},
   "outputs": [
    {
     "data": {
      "image/png": "[encoded data removed]",
      "text/plain": [
       "<Figure size 500x1500 with 1 Axes>"
      ]
     },
     "metadata": {},
     "output_type": "display_data"
    }
   ],
   "source": [
    "y2= x**2\n",
    "fig = plt.figure(figsize=(5, 10))\n",
    "plt.plot(x, y2) \n",
    "plt.xlabel('x')\n",
    "plt.ylabel('y')\n",
    "# function to show the plot \n",
    "plt.show()"
   ]
  },
  {
   "cell_type": "code",
   "execution_count": 5,
   "id": "c8f645b0",
   "metadata": {},
   "outputs": [
    {
     "data": {
      "image/png": "[encoded data removed]",
      "text/plain": [
       "<Figure size 640x480 with 1 Axes>"
      ]
     },
     "metadata": {},
     "output_type": "display_data"
    }
   ],
   "source": [
    "x = [0, 1, 2, 3, 4, 5, 6]\n",
    "y = [1, 2, 4, 8, 12, 6, 7]\n",
    "\n",
    "plt.plot(x, y, '-', c='red')\n",
    "plt.show()"
   ]
  },
  {
   "cell_type": "code",
   "execution_count": 63,
   "id": "5645c09e",
   "metadata": {},
   "outputs": [
    {
     "data": {
      "image/png": "[encoded data removed]",
      "text/plain": [
       "<Figure size 500x1000 with 1 Axes>"
      ]
     },
     "metadata": {},
     "output_type": "display_data"
    }
   ],
   "source": [
    "x = np.arange(0,10)\n",
    "y = x*2\n",
    "z = x**2\n",
    "\n",
    "fig = plt.figure(figsize=(5, 10))\n",
    "# Function to plot \n",
    "plt.plot(x, y, '*b') \n",
    "plt.plot(x, z, '^--y')\n",
    "plt.legend(['square', 'cube'])\n",
    "# function to show the plot \n",
    "plt.show()"
   ]
  },
  {
   "cell_type": "code",
   "execution_count": 7,
   "id": "c70996c3",
   "metadata": {},
   "outputs": [
    {
     "data": {
      "image/png": "[encoded data removed]",
      "text/plain": [
       "<Figure size 640x480 with 1 Axes>"
      ]
     },
     "metadata": {},
     "output_type": "display_data"
    }
   ],
   "source": [
    "# x-axis values \n",
    "x = [5, 2, 9, 4, 7] \n",
    " \n",
    "# Y-axis values \n",
    "y = [10, 5, 8, 4, 2] \n",
    " \n",
    "# Function to plot scatter \n",
    "plt.scatter(x, y) \n",
    " \n",
    "# function to show the plot \n",
    "plt.show() "
   ]
  },
  {
   "cell_type": "markdown",
   "id": "a30368fe",
   "metadata": {},
   "source": [
    "# 2018 世界杯 "
   ]
  },
  {
   "cell_type": "code",
   "execution_count": 31,
   "id": "32c0ed07",
   "metadata": {},
   "outputs": [],
   "source": [
    "worldcup = pd.read_csv('data/World Cup 2018 Dataset.csv')"
   ]
  },
  {
   "cell_type": "code",
   "execution_count": 48,
   "id": "b186d54c",
   "metadata": {},
   "outputs": [
    {
     "data": {
      "text/html": [
       "<div>\n",
       "<style scoped>\n",
       "    .dataframe tbody tr th:only-of-type {\n",
       "        vertical-align: middle;\n",
       "    }\n",
       "\n",
       "    .dataframe tbody tr th {\n",
       "        vertical-align: top;\n",
       "    }\n",
       "\n",
       "    .dataframe thead th {\n",
       "        text-align: right;\n",
       "    }\n",
       "</style>\n",
       "<table border=\"1\" class=\"dataframe\">\n",
       "  <thead>\n",
       "    <tr style=\"text-align: right;\">\n",
       "      <th></th>\n",
       "      <th>Team</th>\n",
       "      <th>Group</th>\n",
       "      <th>Previous \\nappearances</th>\n",
       "      <th>Previous \\ntitles</th>\n",
       "      <th>Previous\\n finals</th>\n",
       "      <th>Previous\\n semifinals</th>\n",
       "      <th>Current \\nFIFA rank</th>\n",
       "      <th>First match \\nagainst</th>\n",
       "      <th>Match index</th>\n",
       "      <th>history with \\nfirst opponent\\n W-L</th>\n",
       "      <th>history with\\n first opponent\\n goals</th>\n",
       "      <th>Second match\\n against</th>\n",
       "      <th>Match index.1</th>\n",
       "      <th>history with\\n second opponent\\n W-L</th>\n",
       "      <th>history with\\n second opponent\\n goals</th>\n",
       "      <th>Third match\\n against</th>\n",
       "      <th>Match index.2</th>\n",
       "      <th>history with\\n third opponent\\n W-L</th>\n",
       "      <th>history with\\n third opponent\\n goals</th>\n",
       "    </tr>\n",
       "  </thead>\n",
       "  <tbody>\n",
       "    <tr>\n",
       "      <th>0</th>\n",
       "      <td>Russia</td>\n",
       "      <td>A</td>\n",
       "      <td>10</td>\n",
       "      <td>0</td>\n",
       "      <td>0</td>\n",
       "      <td>1</td>\n",
       "      <td>65</td>\n",
       "      <td>Saudi Arabia</td>\n",
       "      <td>1</td>\n",
       "      <td>-1.0</td>\n",
       "      <td>-2.0</td>\n",
       "      <td>Egypt</td>\n",
       "      <td>17</td>\n",
       "      <td>NaN</td>\n",
       "      <td>NaN</td>\n",
       "      <td>Uruguay</td>\n",
       "      <td>33</td>\n",
       "      <td>0.0</td>\n",
       "      <td>0.0</td>\n",
       "    </tr>\n",
       "    <tr>\n",
       "      <th>1</th>\n",
       "      <td>Saudi Arabia</td>\n",
       "      <td>A</td>\n",
       "      <td>4</td>\n",
       "      <td>0</td>\n",
       "      <td>0</td>\n",
       "      <td>0</td>\n",
       "      <td>63</td>\n",
       "      <td>Russia</td>\n",
       "      <td>1</td>\n",
       "      <td>1.0</td>\n",
       "      <td>2.0</td>\n",
       "      <td>Uruguay</td>\n",
       "      <td>18</td>\n",
       "      <td>1.0</td>\n",
       "      <td>1.0</td>\n",
       "      <td>Egypt</td>\n",
       "      <td>34</td>\n",
       "      <td>-5.0</td>\n",
       "      <td>-5.0</td>\n",
       "    </tr>\n",
       "    <tr>\n",
       "      <th>2</th>\n",
       "      <td>Egypt</td>\n",
       "      <td>A</td>\n",
       "      <td>2</td>\n",
       "      <td>0</td>\n",
       "      <td>0</td>\n",
       "      <td>0</td>\n",
       "      <td>31</td>\n",
       "      <td>Uruguay</td>\n",
       "      <td>2</td>\n",
       "      <td>-1.0</td>\n",
       "      <td>-2.0</td>\n",
       "      <td>Russia</td>\n",
       "      <td>17</td>\n",
       "      <td>NaN</td>\n",
       "      <td>NaN</td>\n",
       "      <td>Saudi Arabia</td>\n",
       "      <td>34</td>\n",
       "      <td>5.0</td>\n",
       "      <td>5.0</td>\n",
       "    </tr>\n",
       "    <tr>\n",
       "      <th>3</th>\n",
       "      <td>Uruguay</td>\n",
       "      <td>A</td>\n",
       "      <td>12</td>\n",
       "      <td>2</td>\n",
       "      <td>2</td>\n",
       "      <td>5</td>\n",
       "      <td>21</td>\n",
       "      <td>Egypt</td>\n",
       "      <td>2</td>\n",
       "      <td>1.0</td>\n",
       "      <td>2.0</td>\n",
       "      <td>Saudi Arabia</td>\n",
       "      <td>18</td>\n",
       "      <td>-1.0</td>\n",
       "      <td>-1.0</td>\n",
       "      <td>Russia</td>\n",
       "      <td>33</td>\n",
       "      <td>0.0</td>\n",
       "      <td>0.0</td>\n",
       "    </tr>\n",
       "    <tr>\n",
       "      <th>4</th>\n",
       "      <td>Porugal</td>\n",
       "      <td>B</td>\n",
       "      <td>6</td>\n",
       "      <td>0</td>\n",
       "      <td>0</td>\n",
       "      <td>2</td>\n",
       "      <td>3</td>\n",
       "      <td>Spain</td>\n",
       "      <td>3</td>\n",
       "      <td>-12.0</td>\n",
       "      <td>-31.0</td>\n",
       "      <td>Morocco</td>\n",
       "      <td>19</td>\n",
       "      <td>-1.0</td>\n",
       "      <td>-2.0</td>\n",
       "      <td>Iran</td>\n",
       "      <td>35</td>\n",
       "      <td>2.0</td>\n",
       "      <td>5.0</td>\n",
       "    </tr>\n",
       "  </tbody>\n",
       "</table>\n",
       "</div>"
      ],
      "text/plain": [
       "           Team Group  Previous \\nappearances  Previous \\ntitles  \\\n",
       "0        Russia     A                      10                  0   \n",
       "1  Saudi Arabia     A                       4                  0   \n",
       "2         Egypt     A                       2                  0   \n",
       "3       Uruguay     A                      12                  2   \n",
       "4       Porugal     B                       6                  0   \n",
       "\n",
       "   Previous\\n finals  Previous\\n semifinals  Current \\nFIFA rank  \\\n",
       "0                  0                      1                   65   \n",
       "1                  0                      0                   63   \n",
       "2                  0                      0                   31   \n",
       "3                  2                      5                   21   \n",
       "4                  0                      2                    3   \n",
       "\n",
       "  First match \\nagainst  Match index  history with \\nfirst opponent\\n W-L  \\\n",
       "0          Saudi Arabia            1                                 -1.0   \n",
       "1                Russia            1                                  1.0   \n",
       "2               Uruguay            2                                 -1.0   \n",
       "3                 Egypt            2                                  1.0   \n",
       "4                 Spain            3                                -12.0   \n",
       "\n",
       "   history with\\n first opponent\\n goals Second match\\n against  \\\n",
       "0                                   -2.0                  Egypt   \n",
       "1                                    2.0                Uruguay   \n",
       "2                                   -2.0                 Russia   \n",
       "3                                    2.0           Saudi Arabia   \n",
       "4                                  -31.0                Morocco   \n",
       "\n",
       "   Match index.1  history with\\n second opponent\\n W-L  \\\n",
       "0             17                                   NaN   \n",
       "1             18                                   1.0   \n",
       "2             17                                   NaN   \n",
       "3             18                                  -1.0   \n",
       "4             19                                  -1.0   \n",
       "\n",
       "   history with\\n second opponent\\n goals Third match\\n against  \\\n",
       "0                                     NaN               Uruguay   \n",
       "1                                     1.0                 Egypt   \n",
       "2                                     NaN          Saudi Arabia   \n",
       "3                                    -1.0                Russia   \n",
       "4                                    -2.0                  Iran   \n",
       "\n",
       "   Match index.2  history with\\n third opponent\\n W-L  \\\n",
       "0             33                                  0.0   \n",
       "1             34                                 -5.0   \n",
       "2             34                                  5.0   \n",
       "3             33                                  0.0   \n",
       "4             35                                  2.0   \n",
       "\n",
       "   history with\\n third opponent\\n goals  \n",
       "0                                    0.0  \n",
       "1                                   -5.0  \n",
       "2                                    5.0  \n",
       "3                                    0.0  \n",
       "4                                    5.0  "
      ]
     },
     "execution_count": 48,
     "metadata": {},
     "output_type": "execute_result"
    }
   ],
   "source": [
    "worldcup.head()"
   ]
  },
  {
   "cell_type": "code",
   "execution_count": 49,
   "id": "3ad939df",
   "metadata": {},
   "outputs": [
    {
     "data": {
      "text/plain": [
       "Index(['Team', 'Group', 'Previous \\nappearances', 'Previous \\ntitles',\n",
       "       'Previous\\n finals', 'Previous\\n semifinals', 'Current \\nFIFA rank',\n",
       "       'First match \\nagainst', 'Match index',\n",
       "       'history with \\nfirst opponent\\n W-L',\n",
       "       'history with\\n first opponent\\n goals', 'Second match\\n against',\n",
       "       'Match index.1', 'history with\\n second opponent\\n W-L',\n",
       "       'history with\\n second opponent\\n goals', 'Third match\\n against',\n",
       "       'Match index.2', 'history with\\n third opponent\\n W-L',\n",
       "       'history with\\n third opponent\\n goals'],\n",
       "      dtype='object')"
      ]
     },
     "execution_count": 49,
     "metadata": {},
     "output_type": "execute_result"
    }
   ],
   "source": [
    "worldcup.columns\n"
   ]
  },
  {
   "cell_type": "code",
   "execution_count": 50,
   "id": "107edcc7",
   "metadata": {},
   "outputs": [
    {
     "data": {
      "text/html": [
       "<div>\n",
       "<style scoped>\n",
       "    .dataframe tbody tr th:only-of-type {\n",
       "        vertical-align: middle;\n",
       "    }\n",
       "\n",
       "    .dataframe tbody tr th {\n",
       "        vertical-align: top;\n",
       "    }\n",
       "\n",
       "    .dataframe thead th {\n",
       "        text-align: right;\n",
       "    }\n",
       "</style>\n",
       "<table border=\"1\" class=\"dataframe\">\n",
       "  <thead>\n",
       "    <tr style=\"text-align: right;\">\n",
       "      <th></th>\n",
       "      <th>Team</th>\n",
       "      <th>Previous \\ntitles</th>\n",
       "    </tr>\n",
       "  </thead>\n",
       "  <tbody>\n",
       "    <tr>\n",
       "      <th>0</th>\n",
       "      <td>Russia</td>\n",
       "      <td>0</td>\n",
       "    </tr>\n",
       "    <tr>\n",
       "      <th>1</th>\n",
       "      <td>Saudi Arabia</td>\n",
       "      <td>0</td>\n",
       "    </tr>\n",
       "    <tr>\n",
       "      <th>2</th>\n",
       "      <td>Egypt</td>\n",
       "      <td>0</td>\n",
       "    </tr>\n",
       "    <tr>\n",
       "      <th>3</th>\n",
       "      <td>Uruguay</td>\n",
       "      <td>2</td>\n",
       "    </tr>\n",
       "    <tr>\n",
       "      <th>4</th>\n",
       "      <td>Porugal</td>\n",
       "      <td>0</td>\n",
       "    </tr>\n",
       "    <tr>\n",
       "      <th>5</th>\n",
       "      <td>Spain</td>\n",
       "      <td>1</td>\n",
       "    </tr>\n",
       "    <tr>\n",
       "      <th>6</th>\n",
       "      <td>Morocco</td>\n",
       "      <td>0</td>\n",
       "    </tr>\n",
       "    <tr>\n",
       "      <th>7</th>\n",
       "      <td>IRAN</td>\n",
       "      <td>0</td>\n",
       "    </tr>\n",
       "    <tr>\n",
       "      <th>8</th>\n",
       "      <td>France</td>\n",
       "      <td>1</td>\n",
       "    </tr>\n",
       "    <tr>\n",
       "      <th>9</th>\n",
       "      <td>Australia</td>\n",
       "      <td>0</td>\n",
       "    </tr>\n",
       "    <tr>\n",
       "      <th>10</th>\n",
       "      <td>Peru</td>\n",
       "      <td>0</td>\n",
       "    </tr>\n",
       "    <tr>\n",
       "      <th>11</th>\n",
       "      <td>Denmark</td>\n",
       "      <td>0</td>\n",
       "    </tr>\n",
       "    <tr>\n",
       "      <th>12</th>\n",
       "      <td>Argentina</td>\n",
       "      <td>2</td>\n",
       "    </tr>\n",
       "    <tr>\n",
       "      <th>13</th>\n",
       "      <td>Iceland</td>\n",
       "      <td>0</td>\n",
       "    </tr>\n",
       "    <tr>\n",
       "      <th>14</th>\n",
       "      <td>Croatia</td>\n",
       "      <td>0</td>\n",
       "    </tr>\n",
       "    <tr>\n",
       "      <th>15</th>\n",
       "      <td>Nigeria</td>\n",
       "      <td>0</td>\n",
       "    </tr>\n",
       "    <tr>\n",
       "      <th>16</th>\n",
       "      <td>Brazil</td>\n",
       "      <td>5</td>\n",
       "    </tr>\n",
       "    <tr>\n",
       "      <th>17</th>\n",
       "      <td>Switzerland</td>\n",
       "      <td>0</td>\n",
       "    </tr>\n",
       "    <tr>\n",
       "      <th>18</th>\n",
       "      <td>Costarica</td>\n",
       "      <td>0</td>\n",
       "    </tr>\n",
       "    <tr>\n",
       "      <th>19</th>\n",
       "      <td>Serbia</td>\n",
       "      <td>0</td>\n",
       "    </tr>\n",
       "    <tr>\n",
       "      <th>20</th>\n",
       "      <td>Germany</td>\n",
       "      <td>4</td>\n",
       "    </tr>\n",
       "    <tr>\n",
       "      <th>21</th>\n",
       "      <td>Mexico</td>\n",
       "      <td>0</td>\n",
       "    </tr>\n",
       "    <tr>\n",
       "      <th>22</th>\n",
       "      <td>Sweden</td>\n",
       "      <td>0</td>\n",
       "    </tr>\n",
       "    <tr>\n",
       "      <th>23</th>\n",
       "      <td>Korea</td>\n",
       "      <td>0</td>\n",
       "    </tr>\n",
       "    <tr>\n",
       "      <th>24</th>\n",
       "      <td>Belgium</td>\n",
       "      <td>0</td>\n",
       "    </tr>\n",
       "    <tr>\n",
       "      <th>25</th>\n",
       "      <td>Panama</td>\n",
       "      <td>0</td>\n",
       "    </tr>\n",
       "    <tr>\n",
       "      <th>26</th>\n",
       "      <td>Tunisia</td>\n",
       "      <td>0</td>\n",
       "    </tr>\n",
       "    <tr>\n",
       "      <th>27</th>\n",
       "      <td>England</td>\n",
       "      <td>1</td>\n",
       "    </tr>\n",
       "    <tr>\n",
       "      <th>28</th>\n",
       "      <td>Poland</td>\n",
       "      <td>0</td>\n",
       "    </tr>\n",
       "    <tr>\n",
       "      <th>29</th>\n",
       "      <td>Senegal</td>\n",
       "      <td>0</td>\n",
       "    </tr>\n",
       "    <tr>\n",
       "      <th>30</th>\n",
       "      <td>Columbia</td>\n",
       "      <td>0</td>\n",
       "    </tr>\n",
       "    <tr>\n",
       "      <th>31</th>\n",
       "      <td>Japan</td>\n",
       "      <td>0</td>\n",
       "    </tr>\n",
       "  </tbody>\n",
       "</table>\n",
       "</div>"
      ],
      "text/plain": [
       "            Team  Previous \\ntitles\n",
       "0         Russia                  0\n",
       "1   Saudi Arabia                  0\n",
       "2          Egypt                  0\n",
       "3        Uruguay                  2\n",
       "4        Porugal                  0\n",
       "5          Spain                  1\n",
       "6        Morocco                  0\n",
       "7           IRAN                  0\n",
       "8         France                  1\n",
       "9      Australia                  0\n",
       "10          Peru                  0\n",
       "11       Denmark                  0\n",
       "12     Argentina                  2\n",
       "13       Iceland                  0\n",
       "14       Croatia                  0\n",
       "15       Nigeria                  0\n",
       "16        Brazil                  5\n",
       "17   Switzerland                  0\n",
       "18     Costarica                  0\n",
       "19        Serbia                  0\n",
       "20       Germany                  4\n",
       "21        Mexico                  0\n",
       "22        Sweden                  0\n",
       "23         Korea                  0\n",
       "24       Belgium                  0\n",
       "25        Panama                  0\n",
       "26       Tunisia                  0\n",
       "27       England                  1\n",
       "28        Poland                  0\n",
       "29       Senegal                  0\n",
       "30      Columbia                  0\n",
       "31         Japan                  0"
      ]
     },
     "execution_count": 50,
     "metadata": {},
     "output_type": "execute_result"
    }
   ],
   "source": [
    "worldcup[['Team','Previous \\ntitles']]"
   ]
  },
  {
   "cell_type": "code",
   "execution_count": 51,
   "id": "116d5afd",
   "metadata": {},
   "outputs": [
    {
     "data": {
      "text/html": [
       "<div>\n",
       "<style scoped>\n",
       "    .dataframe tbody tr th:only-of-type {\n",
       "        vertical-align: middle;\n",
       "    }\n",
       "\n",
       "    .dataframe tbody tr th {\n",
       "        vertical-align: top;\n",
       "    }\n",
       "\n",
       "    .dataframe thead th {\n",
       "        text-align: right;\n",
       "    }\n",
       "</style>\n",
       "<table border=\"1\" class=\"dataframe\">\n",
       "  <thead>\n",
       "    <tr style=\"text-align: right;\">\n",
       "      <th></th>\n",
       "      <th>Team</th>\n",
       "      <th>Previous \\ntitles</th>\n",
       "    </tr>\n",
       "  </thead>\n",
       "  <tbody>\n",
       "    <tr>\n",
       "      <th>0</th>\n",
       "      <td>Russia</td>\n",
       "      <td>0</td>\n",
       "    </tr>\n",
       "    <tr>\n",
       "      <th>1</th>\n",
       "      <td>Saudi Arabia</td>\n",
       "      <td>0</td>\n",
       "    </tr>\n",
       "    <tr>\n",
       "      <th>2</th>\n",
       "      <td>Egypt</td>\n",
       "      <td>0</td>\n",
       "    </tr>\n",
       "    <tr>\n",
       "      <th>3</th>\n",
       "      <td>Uruguay</td>\n",
       "      <td>2</td>\n",
       "    </tr>\n",
       "    <tr>\n",
       "      <th>4</th>\n",
       "      <td>Porugal</td>\n",
       "      <td>0</td>\n",
       "    </tr>\n",
       "  </tbody>\n",
       "</table>\n",
       "</div>"
      ],
      "text/plain": [
       "           Team  Previous \\ntitles\n",
       "0        Russia                  0\n",
       "1  Saudi Arabia                  0\n",
       "2         Egypt                  0\n",
       "3       Uruguay                  2\n",
       "4       Porugal                  0"
      ]
     },
     "execution_count": 51,
     "metadata": {},
     "output_type": "execute_result"
    }
   ],
   "source": [
    "worldcup.loc[0:4,['Team','Previous \\ntitles']]"
   ]
  },
  {
   "cell_type": "code",
   "execution_count": 52,
   "id": "dbe26009",
   "metadata": {},
   "outputs": [
    {
     "data": {
      "text/plain": [
       "0           Russia\n",
       "1     Saudi Arabia\n",
       "2            Egypt\n",
       "3          Uruguay\n",
       "4          Porugal\n",
       "5            Spain\n",
       "6          Morocco\n",
       "7             IRAN\n",
       "8           France\n",
       "9        Australia\n",
       "10            Peru\n",
       "11         Denmark\n",
       "12       Argentina\n",
       "13         Iceland\n",
       "14         Croatia\n",
       "15         Nigeria\n",
       "16          Brazil\n",
       "17     Switzerland\n",
       "18       Costarica\n",
       "19          Serbia\n",
       "20         Germany\n",
       "21          Mexico\n",
       "22          Sweden\n",
       "23           Korea\n",
       "24         Belgium\n",
       "25          Panama\n",
       "26         Tunisia\n",
       "27         England\n",
       "28          Poland\n",
       "29         Senegal\n",
       "30        Columbia\n",
       "31           Japan\n",
       "Name: Team, dtype: object"
      ]
     },
     "execution_count": 52,
     "metadata": {},
     "output_type": "execute_result"
    }
   ],
   "source": [
    "team = worldcup.Team\n",
    "team"
   ]
  },
  {
   "cell_type": "code",
   "execution_count": 53,
   "id": "4639fe9e",
   "metadata": {},
   "outputs": [],
   "source": [
    "p_titles = worldcup['Previous \\ntitles']"
   ]
  },
  {
   "cell_type": "code",
   "execution_count": 54,
   "id": "97b58f3f",
   "metadata": {},
   "outputs": [
    {
     "data": {
      "text/plain": [
       "0     0\n",
       "1     0\n",
       "2     0\n",
       "3     2\n",
       "4     0\n",
       "5     1\n",
       "6     0\n",
       "7     0\n",
       "8     1\n",
       "9     0\n",
       "10    0\n",
       "11    0\n",
       "12    2\n",
       "13    0\n",
       "14    0\n",
       "15    0\n",
       "16    5\n",
       "17    0\n",
       "18    0\n",
       "19    0\n",
       "20    4\n",
       "21    0\n",
       "22    0\n",
       "23    0\n",
       "24    0\n",
       "25    0\n",
       "26    0\n",
       "27    1\n",
       "28    0\n",
       "29    0\n",
       "30    0\n",
       "31    0\n",
       "Name: Previous \\ntitles, dtype: int64"
      ]
     },
     "execution_count": 54,
     "metadata": {},
     "output_type": "execute_result"
    }
   ],
   "source": [
    "p_titles"
   ]
  },
  {
   "cell_type": "code",
   "execution_count": 60,
   "id": "fbc98bb0",
   "metadata": {},
   "outputs": [
    {
     "data": {
      "image/png": "[encoded data removed]",
      "text/plain": [
       "<Figure size 2000x600 with 1 Axes>"
      ]
     },
     "metadata": {},
     "output_type": "display_data"
    }
   ],
   "source": [
    "plt.figure(figsize=(20,6))\n",
    "plt.bar(team, p_titles)\n",
    "plt.show() "
   ]
  },
  {
   "cell_type": "code",
   "execution_count": 61,
   "id": "8424a1ad",
   "metadata": {},
   "outputs": [
    {
     "data": {
      "image/png": "[encoded data removed]",
      "text/plain": [
       "<Figure size 2000x600 with 1 Axes>"
      ]
     },
     "metadata": {},
     "output_type": "display_data"
    }
   ],
   "source": [
    "fig = plt.figure(figsize=(20, 6))\n",
    "plt.bar(team, p_titles)\n",
    "plt.xlabel(\"Team\")\n",
    "plt.xticks(team, fontsize=14, rotation=60)  # 横坐标对应位置显示的内容\n",
    "plt.ylabel(\"Previous Titles\")\n",
    "plt.show() "
   ]
  },
  {
   "cell_type": "code",
   "execution_count": null,
   "id": "84929471",
   "metadata": {},
   "outputs": [],
   "source": []
  }
 ],
 "metadata": {
  "kernelspec": {
   "display_name": "Python 3 (ipykernel)",
   "language": "python",
   "name": "python3"
  },
  "language_info": {
   "codemirror_mode": {
    "name": "ipython",
    "version": 3
   },
   "file_extension": ".py",
   "mimetype": "text/x-python",
   "name": "python",
   "nbconvert_exporter": "python",
   "pygments_lexer": "ipython3",
   "version": "3.9.13"
  }
 },
 "nbformat": 4,
 "nbformat_minor": 5
}
