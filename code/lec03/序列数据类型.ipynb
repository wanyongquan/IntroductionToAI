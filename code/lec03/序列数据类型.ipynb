{
 "cells": [
  {
   "cell_type": "markdown",
   "id": "17f10ed2",
   "metadata": {},
   "source": [
    "## 基本容器   \n",
    "注意：可变（mutable ）对象在创建后可以修改，而不可变（immutable）对象则不能。\n",
    "\n",
    "容器是可用于将其他对象分组在一起的对象。 基本容器类型包括：\n",
    "\n",
    "* str（字符串：不可变；按整数索引；项目按添加顺序存储）\n",
    "* 列表（列表：可变；按整数索引；项目按添加顺序存储）\n",
    "    - [3,5,6,3,'狗','猫',假]\n",
    "* 元组（元组：不可变；按整数索引；项目按添加顺序存储）\n",
    "    - (3,5,6,3,'狗','猫',假)\n",
    "* set（集合：可变；根本不索引；项目不按添加顺序存储；只能包含不可变对象；不包含重复对象）\n",
    "    - {3, 5, 6, 3, '狗', '猫', False}\n",
    "* dict（字典：可变；键值对由不可变键索引；项目不按添加顺序存储）\n",
    "    - {'name': 'Jane', 'age': 23, 'fav_foods': ['披萨', '水果', '鱼']}\n",
    "定义列表、元组或集合时，使用逗号 (,) 分隔各个项目。 定义字典时，使用冒号（:）分隔键和值，使用逗号（,）分隔键值对。\n",
    "\n",
    "    字符串、列表和元组都是可以使用 +、*、+= 和 *= 运算符的序列类型。"
   ]
  },
  {
   "cell_type": "code",
   "execution_count": 12,
   "id": "f352ffb4",
   "metadata": {},
   "outputs": [
    {
     "data": {
      "text/plain": [
       "'examp'"
      ]
     },
     "execution_count": 12,
     "metadata": {},
     "output_type": "execute_result"
    }
   ],
   "source": [
    "# Access a range of items in a sequence\n",
    "simple_string1 = 'an example'\n",
    "simple_string1[3:8]"
   ]
  },
  {
   "cell_type": "code",
   "execution_count": 14,
   "id": "fba9b51f",
   "metadata": {},
   "outputs": [
    {
     "data": {
      "text/plain": [
       "'an example that re-assigned the original string'"
      ]
     },
     "execution_count": 14,
     "metadata": {},
     "output_type": "execute_result"
    }
   ],
   "source": [
    "# Add and re-assign\n",
    "simple_string1 += ' that re-assigned the original string'\n",
    "simple_string1"
   ]
  },
  {
   "cell_type": "code",
   "execution_count": 1,
   "id": "af57b916",
   "metadata": {},
   "outputs": [],
   "source": [
    "# Assign some containers to different variables\n",
    "list1 = [3, 5, 6, 3, 'dog', 'cat', False]\n",
    "tuple1 = (3, 5, 6, 3, 'dog', 'cat', False)\n",
    "set1 = {3, 5, 6, 3, 'dog', 'cat', False}\n",
    "dict1 = {'name': 'Jane', 'age': 23, 'fav_foods': ['pizza', 'fruit', 'fish']}"
   ]
  },
  {
   "cell_type": "code",
   "execution_count": 2,
   "id": "bbd3cf5e",
   "metadata": {},
   "outputs": [
    {
     "data": {
      "text/plain": [
       "[3, 5, 6, 3, 'dog', 'cat', False]"
      ]
     },
     "execution_count": 2,
     "metadata": {},
     "output_type": "execute_result"
    }
   ],
   "source": [
    "# Items in the list object are stored in the order they were added\n",
    "list1"
   ]
  },
  {
   "cell_type": "code",
   "execution_count": 3,
   "id": "b16e81a7",
   "metadata": {},
   "outputs": [
    {
     "data": {
      "text/plain": [
       "(3, 5, 6, 3, 'dog', 'cat', False)"
      ]
     },
     "execution_count": 3,
     "metadata": {},
     "output_type": "execute_result"
    }
   ],
   "source": [
    "# Items in the tuple object are stored in the order they were added\n",
    "tuple1"
   ]
  },
  {
   "cell_type": "code",
   "execution_count": 4,
   "id": "c878f93f",
   "metadata": {},
   "outputs": [
    {
     "data": {
      "text/plain": [
       "{3, 5, 6, False, 'cat', 'dog'}"
      ]
     },
     "execution_count": 4,
     "metadata": {},
     "output_type": "execute_result"
    }
   ],
   "source": [
    "# Items in the set object are not stored in the order they were added\n",
    "# Also, notice that the value 3 only appears once in this set object\n",
    "set1"
   ]
  },
  {
   "cell_type": "code",
   "execution_count": 5,
   "id": "772505ab",
   "metadata": {},
   "outputs": [
    {
     "data": {
      "text/plain": [
       "{'name': 'Jane', 'age': 23, 'fav_foods': ['pizza', 'fruit', 'fish']}"
      ]
     },
     "execution_count": 5,
     "metadata": {},
     "output_type": "execute_result"
    }
   ],
   "source": [
    "# Items in the dict object are not stored in the order they were added\n",
    "dict1"
   ]
  },
  {
   "cell_type": "code",
   "execution_count": 6,
   "id": "fed4249b",
   "metadata": {},
   "outputs": [
    {
     "data": {
      "text/plain": [
       "[3, 5, 6, 3, 'dog', 'cat', False, 5, 'grapes']"
      ]
     },
     "execution_count": 6,
     "metadata": {},
     "output_type": "execute_result"
    }
   ],
   "source": [
    "# Add and re-assign\n",
    "list1 += [5, 'grapes']\n",
    "list1"
   ]
  },
  {
   "cell_type": "code",
   "execution_count": 7,
   "id": "bfd33612",
   "metadata": {},
   "outputs": [
    {
     "data": {
      "text/plain": [
       "[1, 2, 3, 4, 1, 2, 3, 4]"
      ]
     },
     "execution_count": 7,
     "metadata": {},
     "output_type": "execute_result"
    }
   ],
   "source": [
    "# Multiply\n",
    "[1, 2, 3, 4] * 2"
   ]
  },
  {
   "cell_type": "markdown",
   "id": "fa135045",
   "metadata": {},
   "source": [
    "## 访问容器中的数据\n",
    "对于字符串、列表、元组和字典，我们可以使用下标表示法（方括号）来访问索引处的数据。\n",
    "\n",
    "* 字符串、列表和元组按整数索引，第一项从 0 开始\n",
    "    - 这些序列类型还支持访问一系列项目，称为切片\n",
    "    - 使用负索引从序列的后面开始\n",
    "* 字典按其键进行索引\n",
    "\n",
    "    注意：集合没有索引，因此我们不能使用下标表示法来访问数据元素。"
   ]
  },
  {
   "cell_type": "code",
   "execution_count": 8,
   "id": "e4370ec0",
   "metadata": {},
   "outputs": [
    {
     "data": {
      "text/plain": [
       "3"
      ]
     },
     "execution_count": 8,
     "metadata": {},
     "output_type": "execute_result"
    }
   ],
   "source": [
    "# Access the first item in a sequence\n",
    "list1[0]"
   ]
  },
  {
   "cell_type": "code",
   "execution_count": 9,
   "id": "321c19ca",
   "metadata": {},
   "outputs": [
    {
     "data": {
      "text/plain": [
       "False"
      ]
     },
     "execution_count": 9,
     "metadata": {},
     "output_type": "execute_result"
    }
   ],
   "source": [
    "# Access the last item in a sequence\n",
    "tuple1[-1]"
   ]
  },
  {
   "cell_type": "code",
   "execution_count": 13,
   "id": "38a3978a",
   "metadata": {},
   "outputs": [
    {
     "data": {
      "text/plain": [
       "(3, 5, 6, 3)"
      ]
     },
     "execution_count": 13,
     "metadata": {},
     "output_type": "execute_result"
    }
   ],
   "source": [
    "# Access a range of items in a sequence\n",
    "tuple1[:-3]"
   ]
  },
  {
   "cell_type": "code",
   "execution_count": 15,
   "id": "92615815",
   "metadata": {},
   "outputs": [
    {
     "data": {
      "text/plain": [
       "['dog', 'cat', False, 5, 'grapes']"
      ]
     },
     "execution_count": 15,
     "metadata": {},
     "output_type": "execute_result"
    }
   ],
   "source": [
    "# Access a range of items in a sequence\n",
    "list1[4:]"
   ]
  },
  {
   "cell_type": "code",
   "execution_count": 16,
   "id": "be07c818",
   "metadata": {},
   "outputs": [
    {
     "data": {
      "text/plain": [
       "'Jane'"
      ]
     },
     "execution_count": 16,
     "metadata": {},
     "output_type": "execute_result"
    }
   ],
   "source": [
    "# Access an item in a dictionary\n",
    "dict1['name']"
   ]
  },
  {
   "cell_type": "code",
   "execution_count": 17,
   "id": "1cc0eb12",
   "metadata": {},
   "outputs": [
    {
     "data": {
      "text/plain": [
       "'fish'"
      ]
     },
     "execution_count": 17,
     "metadata": {},
     "output_type": "execute_result"
    }
   ],
   "source": [
    "# Access an element of a sequence in a dictionary\n",
    "dict1['fav_foods'][2]"
   ]
  },
  {
   "cell_type": "markdown",
   "id": "bc922174",
   "metadata": {},
   "source": [
    "## 列表对象上的一些函数\n",
    "* .append(item) 将单个项目添加到列表中\n",
    "* .extend([item1, item2, ...]) 将多个项目添加到列表中\n",
    "* .remove(item) 从列表中删除单个项目\n",
    "* .pop() 删除并返回列表末尾的项目\n",
    "* .pop(index) 删除并返回索引处的项目"
   ]
  },
  {
   "cell_type": "markdown",
   "id": "72cbd948",
   "metadata": {},
   "source": [
    "使用for循环 遍历列表"
   ]
  },
  {
   "cell_type": "code",
   "execution_count": 21,
   "id": "4bee4c18",
   "metadata": {},
   "outputs": [
    {
     "name": "stdout",
     "output_type": "stream",
     "text": [
      "xiaoWang\n",
      "xiaoZhang\n",
      "xiaoHua\n"
     ]
    }
   ],
   "source": [
    "nameList = ['xiaoWang', 'xiaoZhang', 'xiaoHua']\n",
    "for name in nameList:\n",
    "    print(name)"
   ]
  },
  {
   "cell_type": "markdown",
   "id": "f6f1437b",
   "metadata": {},
   "source": [
    "在列表中插入新的元素"
   ]
  },
  {
   "cell_type": "code",
   "execution_count": 22,
   "id": "615a8856",
   "metadata": {},
   "outputs": [
    {
     "name": "stdout",
     "output_type": "stream",
     "text": [
      "['xiaoWang', 'Tom', 'xiaoZhang', 'xiaoHua', 'Jerry']\n"
     ]
    }
   ],
   "source": [
    "#待查找的列表\n",
    "# nameList = ['xiaoWang','xiaoZhang','xiaoHua']\n",
    "# print(nameList)\n",
    "\n",
    "nameList.insert(1, 'Tom')\n",
    "nameList.append(\"Jerry\")\n",
    "print(nameList)"
   ]
  },
  {
   "cell_type": "code",
   "execution_count": 23,
   "id": "c4b6736f",
   "metadata": {},
   "outputs": [
    {
     "name": "stdout",
     "output_type": "stream",
     "text": [
      "['xiaoWang', 'Tom', 'xiaoZhang', 'xiaoHua', 'Jerry', 'Jimmy', 'Cindy']\n"
     ]
    }
   ],
   "source": [
    "new_stu_list = ['Jimmy', 'Cindy']\n",
    "nameList.extend(new_stu_list)\n",
    "print(nameList)"
   ]
  },
  {
   "cell_type": "markdown",
   "id": "54a212f7",
   "metadata": {},
   "source": [
    "## 字典对象上的一些函数\n",
    "* .update([(key1, val1), (key2, val2), ...]) 将多个键值对添加到字典中\n",
    "* .update(dict2) 将另一个字典中的所有键和值添加到该字典中\n",
    "* .pop(key) 删除键并从字典中返回其值（如果找不到键则出错）\n",
    "* .pop(key, default_val) 删除键并从字典中返回其值（如果找不到键则返回default_val）\n",
    "* .get(key) 返回字典中指定键的值（如果未找到键则返回 None）\n",
    "* .get(key, default_val) 返回字典中指定键的值（如果未找到键则返回default_val）\n",
    "* .keys() 返回字典中的键列表\n",
    "* .values() 返回字典中的值列表\n",
    "* .items() 返回字典中的键值对（元组）列表"
   ]
  },
  {
   "cell_type": "markdown",
   "id": "e27420dc",
   "metadata": {},
   "source": [
    "根据key访问字典元素"
   ]
  },
  {
   "cell_type": "code",
   "execution_count": 24,
   "id": "4ca78657",
   "metadata": {},
   "outputs": [
    {
     "name": "stdout",
     "output_type": "stream",
     "text": [
      "班长\n",
      "地球亚洲中国北京\n",
      "None\n",
      "<class 'NoneType'>\n",
      "0\n"
     ]
    }
   ],
   "source": [
    "info = {'name':'班长', 'id':100, 'sex':'f', 'address':'地球亚洲中国北京'}\n",
    "print(info['name'])\n",
    "print(info['address'])\n",
    "age = info.get('age')\n",
    "print(age)\n",
    "print(type(age))\n",
    "age = info.get('age', 0)\n",
    "print(age)\n"
   ]
  },
  {
   "cell_type": "markdown",
   "id": "98d37cca",
   "metadata": {},
   "source": [
    "新增字典元素"
   ]
  },
  {
   "cell_type": "code",
   "execution_count": 26,
   "id": "f30e7201",
   "metadata": {},
   "outputs": [
    {
     "name": "stdout",
     "output_type": "stream",
     "text": [
      "please input your age:23\n",
      "{'name': '班长', 'id': 100, 'sex': 'f', 'address': '地球亚洲中国北京', 'age': '23'}\n"
     ]
    }
   ],
   "source": [
    "age = input('please input your age:')\n",
    "info['age'] = age\n",
    "print(info)"
   ]
  },
  {
   "cell_type": "markdown",
   "id": "ecda32e0",
   "metadata": {},
   "source": [
    "遍历字典元素"
   ]
  },
  {
   "cell_type": "code",
   "execution_count": 28,
   "id": "552994eb",
   "metadata": {},
   "outputs": [
    {
     "name": "stdout",
     "output_type": "stream",
     "text": [
      "('Name', 'Zara')\n",
      "('Age', 7)\n",
      "====================\n",
      "key: Name，value: Zara\n",
      "key: Age，value: 7\n",
      "====================\n",
      "Name\n",
      "Age\n",
      "====================\n",
      "Zara\n",
      "7\n"
     ]
    }
   ],
   "source": [
    "dict = {'Name': 'Zara', 'Age': 7}\n",
    "# 遍历元素\n",
    "for item in dict.items():\n",
    "     print(item)\n",
    "\n",
    "print('='*20)\n",
    "# 遍历元素，分别赋值\n",
    "for key,value in dict.items():\n",
    "    print(\"key: %s，value: %s\" % (key,value) )\n",
    "    \n",
    "print('='*20)    \n",
    "# 遍历key\n",
    "for key in dict.keys():\n",
    "      print(key)\n",
    "\n",
    "print('='*20)    \n",
    "# 遍历value\n",
    "for value in dict.values():\n",
    "     print(value)"
   ]
  },
  {
   "cell_type": "markdown",
   "id": "228dddc3",
   "metadata": {},
   "source": [
    "### 案例\n",
    "随机分配老师到不同的办公室"
   ]
  },
  {
   "cell_type": "code",
   "execution_count": 34,
   "id": "5dd19516",
   "metadata": {},
   "outputs": [
    {
     "name": "stdout",
     "output_type": "stream",
     "text": [
      "办公室1的人数为:0\n",
      "--------------------\n",
      "办公室2的人数为:5\n",
      "黄药师、 杨过、 郭靖、 张无忌、 洪七公、 --------------------\n",
      "办公室3的人数为:3\n",
      "王重阳、 张三丰、 乔峰、 --------------------\n"
     ]
    }
   ],
   "source": [
    "import random\n",
    "# 定义一个列表用来保存3个办公室\n",
    "offices = [[],[],[]]\n",
    "# 定义一个列表用来存储8位老师的名字\n",
    "names = ['王重阳','黄药师','杨过','郭靖','张三丰','乔峰','张无忌','洪七公']\n",
    "i = 0\n",
    "for name in names:\n",
    "   idx = random.randint(0,2) # 行索引\n",
    "   offices[idx].append(name)\n",
    "i = 1 # 办公室编号\n",
    "for tempNames in offices:\n",
    "   print('办公室%d的人数为:%d'%(i,len(tempNames)))\n",
    "   i+=1\n",
    "   for name in tempNames:\n",
    "        print(\"%s、 \"%name,end='')\n",
    "   print(\"-\"*20)"
   ]
  },
  {
   "cell_type": "markdown",
   "id": "04f181a1",
   "metadata": {},
   "source": [
    "## 练习"
   ]
  },
  {
   "cell_type": "markdown",
   "id": "728b53b9",
   "metadata": {},
   "source": [
    "1. 从身份证号中提取年月日，并分别打印"
   ]
  },
  {
   "cell_type": "code",
   "execution_count": 29,
   "id": "30af5df2",
   "metadata": {},
   "outputs": [],
   "source": [
    "identity = '32092620*******' # 请使用你的数据替换\n",
    "# 请输入你的代码"
   ]
  },
  {
   "cell_type": "markdown",
   "id": "d2b6188b",
   "metadata": {},
   "source": [
    "2. 请补充横线处的代码，listA中存放了已点的餐单。   \n",
    " 让 Python 帮你增加一个“红烧肉”，去掉一个“水煮干丝”。"
   ]
  },
  {
   "cell_type": "code",
   "execution_count": null,
   "id": "463bf1b3",
   "metadata": {},
   "outputs": [],
   "source": [
    "#请补充代码\n",
    "listA = ['水煮干丝','平桥豆腐','白灼虾','香菇青菜','西红柿鸡蛋汤']\n",
    "listA.append # \"红烧肉\"\n",
    "listA.remove # \"水煮干丝\"\n",
    "print(listA)"
   ]
  },
  {
   "cell_type": "markdown",
   "id": "b2ed6fcd",
   "metadata": {},
   "source": [
    "3.请补充横线处的代码。dictMenu 中存放了你的双人下午套餐（包括咖啡 2 份和点心 2 份）的价格，\n",
    "让 Python 帮忙计算并输出消费总额。"
   ]
  },
  {
   "cell_type": "code",
   "execution_count": 30,
   "id": "f1e3e063",
   "metadata": {},
   "outputs": [
    {
     "ename": "SyntaxError",
     "evalue": "invalid character '①' (U+2460) (3718767459.py, line 2)",
     "output_type": "error",
     "traceback": [
      "\u001B[0;36m  File \u001B[0;32m\"/var/folders/26/pf7kbqyx6sjbkrp6j4tc3gwr0000gn/T/ipykernel_15374/3718767459.py\"\u001B[0;36m, line \u001B[0;32m2\u001B[0m\n\u001B[0;31m    ___①_  _\u001B[0m\n\u001B[0m       ^\u001B[0m\n\u001B[0;31mSyntaxError\u001B[0m\u001B[0;31m:\u001B[0m invalid character '①' (U+2460)\n"
     ]
    }
   ],
   "source": [
    "dictMenu = {'卡布奇洛':32 ,'摩卡':30,'抹茶蛋糕':28,'布朗尼':26}\n",
    "___①_  _\n",
    "for i in ____②____:\n",
    "    sum +=  i\n",
    "print(sum)"
   ]
  },
  {
   "cell_type": "markdown",
   "id": "090ff6a3",
   "metadata": {},
   "source": [
    "4. 据说著名犹太历史学家Josephus有过以下的故事：  \n",
    "在罗马人占领乔塔帕特后，39个犹太人与Josephus及他的朋友躲到一个洞中。   \n",
    "39个犹太人决定宁愿死也不要被敌人抓到，于是决定了一个自杀方式。   \n",
    "41个人排成一个圆圈，由第1个人开始报数，每报数到第3人该人就必须自杀；   \n",
    "然后再由下一个重新报数，直到所有人都自杀身亡为止。   \n",
    "然而Josephus和他的朋友并不想遵从。  \n",
    "\n",
    "问题是，给定了和，一开始要站在什么地方才能避免被处决？   \n",
    "osephus要他的朋友先假装遵从，他将朋友与自己安排在第x个与第y个位置，于是逃过了这场死亡游戏。   \n",
    "\n",
    "要求：按死亡顺序打印输出自杀的人的编号和最后存活人的编号；"
   ]
  },
  {
   "cell_type": "code",
   "execution_count": 1,
   "id": "e0f7e5b9",
   "metadata": {},
   "outputs": [],
   "source": [
    "ls1 = [i for i in range(1, 42)] # 最初的人的列表\n",
    "ls2 = [] # 自杀的人的列表\n",
    "count = 0 # 计数变量，数到3后，置零，重新开始数\n",
    "while len(ls1)>2:\n",
    "    current = ls1.pop(0) # 从列表第一个位置取出一个数\n",
    "    # 请输入你的代码\n",
    "    \n",
    "\n",
    "print(ls2)\n",
    "print(ls1)"
   ]
  },
  {
   "cell_type": "code",
   "execution_count": null,
   "id": "0139961f",
   "metadata": {},
   "outputs": [],
   "source": []
  }
 ],
 "metadata": {
  "kernelspec": {
   "display_name": "Python 3 (ipykernel)",
   "language": "python",
   "name": "python3"
  },
  "language_info": {
   "codemirror_mode": {
    "name": "ipython",
    "version": 3
   },
   "file_extension": ".py",
   "mimetype": "text/x-python",
   "name": "python",
   "nbconvert_exporter": "python",
   "pygments_lexer": "ipython3",
   "version": "3.9.13"
  }
 },
 "nbformat": 4,
 "nbformat_minor": 5
}
